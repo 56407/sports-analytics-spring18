{
 "cells": [
  {
   "cell_type": "markdown",
   "metadata": {},
   "source": [
    "# Tableau Prep Tidy Data Instructions"
   ]
  },
  {
   "cell_type": "markdown",
   "metadata": {},
   "source": [
    "## Clean and reshape dataset\n",
    "* Open the file using the steps: Connect to Data > Text file > hitters_hw_prep.csv \n",
    "\n",
    "![alt text](prep_images/connect_file.png)\n",
    "\n",
    "Next, add a data cleaning step.  Here we can quickly see two players with similar names.   Correct Elvus Andris to Elvis Andrus in nameFull by right-clicking and clicking \"Edit Value\".\n",
    "\n",
    "![alt text](prep_images/edit_andrus.png)\n",
    "\n",
    "* Next we notice that the current state our table violates the “Each variable forms a column” as year is included in the column names.  To fix this we will need to \"Add Pivot\". \n",
    "\n",
    "![alt text](prep_images/add_pivot.png)\n",
    "\n",
    "* In this pivot step we will convert the columns to rows, or \"melting\" the data.  To do that we will highlight all fields except \"fullName\" by holding SHIFT and dragging the fields to \"Pivoted Fields\".\n",
    "\n",
    "![alt text](prep_images/pivoted_fields.png)\n",
    "\n",
    "* Next we'll \"Add Step\" to split the Pivot1 Names into \"variable\" and \"year\".  To do this, we'll \"Create Calculated Field\" and use the SPLIT function.\n",
    "\n",
    "![alt text](prep_images/split_variable.png)\n",
    "\n",
    "![alt text](prep_images/split_year.png)\n",
    "\n",
    "* After splitting the column we can now remove the \"Pivot1 Name\" column by right-clicking.\n",
    "\n",
    "![alt text](prep_images/remove_pivot1_name.png)\n",
    "\n",
    "* Next we will pivot the variables back to columns.  To do this we will add a pivot step, change, \"Columns to Rows\" to \"Rows to Columns\", add \"variable\" to the \"Field that will pivot rows to columns\" and \"Pivot1 Values\" to \"Field to aggregate for new columns\".\n",
    "\n",
    "![alt text](prep_images/rows_to_columns.png)"
   ]
  },
  {
   "cell_type": "markdown",
   "metadata": {},
   "source": [
    "## Check Data Integrity\n",
    "\n",
    "\n",
    "* Sort by 2B ascending and descending.  We can notice that Kyle Seager is missing data for 2B for 2015.  We can look up his stats on MLB.com (http://m.mlb.com/player/572122/kyle-seager).  He hit 37 doubles in 2015. To edit, right-click the null value, hovering over \"Group and Replace\" and clicking \"Manual Selection\".  Then right click the null and click edit value.\n",
    "\n",
    "![alt text](prep_images/edit_seager.png)\n",
    "\n",
    "\n",
    "![alt text](prep_images/edit_seager_2.png)\n",
    "\n",
    "\n",
    "* Sort by 3B ascending and descending.  Everything looks fine.\n",
    "\n",
    "* Sort by AB ascending and descending.  We notice that Jose Altuve has -660 AB in 2014 which is impossible as AB is a counting statistic.  Jose Altuve had 660 AB in 2014 (http://m.mlb.com/player/514888/jose-altuve).\n",
    "\n",
    "* Sort by BB ascending and descending.  Everything looks fine.\n",
    "\n",
    "* Sort by H ascending and descending.  Everything looks fine.\n",
    "\n",
    "* Sort by HBP ascending and descending.  Everything looks fine.\n",
    "\n",
    "* Sort by HR ascending and descending.  We notice that Robinson Cano had 330 HR in 2012.  It seems unlikely that he would have that many in one year. Robinson Cano had 33 HR in 2012 (http://m.mlb.com/player/429664/robinson-cano).\n",
    "\n",
    "* Sort by SF ascending and descending.  Everything looks fine.\n",
    "\n",
    "* Sort by SH ascending and descending.  Everything looks fine."
   ]
  },
  {
   "attachments": {},
   "cell_type": "markdown",
   "metadata": {},
   "source": [
    "## Calculate OPS\n",
    "\n",
    "* Insert \"Calculated Field\" named PA for Plate Appearances\n",
    "    * $PA = AB + BB + HBP + SF$\n",
    "    \n",
    "![alt text](prep_images/create_pa.png)\n",
    "\n",
    "* Insert \"Calculated Field\" named PA for Plate Appearances named OBP for On-Base Percentage\n",
    "    * $OBP = (H + BB + HBP) / PA$\n",
    "    \n",
    "![alt text](prep_images/create_obp.png)\n",
    "\n",
    "* Insert \"Calculated Field\" named SLG for Slugging Percentage\n",
    "Create \n",
    "\n",
    "    * $SLG = ((H-(2B+3B+HR)) + (2 * 2B) + (3 * 3B) + (4 * HR)) / AB$\n",
    "    \n",
    "![alt text](prep_images/create_slg.png)\n",
    "\n",
    "* Insert \"Calculated Field\" named PA for Plate Appearances named OPS for On-Base plus Slugging\n",
    "    * $OPS = OBP + SLG$\n",
    "    \n",
    " ![alt text](prep_images/create_ops.png)\n",
    "\n",
    "\n",
    "* Add an Export step and export the data to a csv\n",
    "\n",
    " ![alt text](prep_images/export_data.png)\n",
    " \n",
    "\n",
    "* Open csv in Excel and sort by OPS to determine the players with the best OPS\n",
    "\n",
    " ![alt text](prep_images/open_excel.png)\n",
    " "
   ]
  },
  {
   "cell_type": "code",
   "execution_count": null,
   "metadata": {
    "collapsed": true
   },
   "outputs": [],
   "source": []
  }
 ],
 "metadata": {
  "kernelspec": {
   "display_name": "Python 3",
   "language": "python",
   "name": "python3"
  },
  "language_info": {
   "codemirror_mode": {
    "name": "ipython",
    "version": 3
   },
   "file_extension": ".py",
   "mimetype": "text/x-python",
   "name": "python",
   "nbconvert_exporter": "python",
   "pygments_lexer": "ipython3",
   "version": "3.6.3"
  }
 },
 "nbformat": 4,
 "nbformat_minor": 2
}
