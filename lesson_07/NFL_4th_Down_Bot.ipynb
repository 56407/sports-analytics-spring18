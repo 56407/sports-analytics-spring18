{
 "cells": [
  {
   "cell_type": "markdown",
   "metadata": {},
   "source": [
    "## NFL 4th Down Bot\n",
    "Source: https://github.com/TheUpshot/4thdownbot-model"
   ]
  },
  {
   "cell_type": "code",
   "execution_count": 4,
   "metadata": {
    "collapsed": true
   },
   "outputs": [],
   "source": [
    "from __future__ import division, print_function\n",
    "\n",
    "%matplotlib inline\n",
    "import os\n",
    "import numpy as np\n",
    "import pandas as pd\n",
    "import matplotlib.pyplot as plt\n",
    "\n",
    "from sklearn.cross_validation import train_test_split\n",
    "from sklearn.externals import joblib\n",
    "from sklearn.linear_model import LogisticRegression\n",
    "from sklearn.metrics import (auc, classification_report,\n",
    "                             f1_score, log_loss, roc_curve)\n",
    "from sklearn.preprocessing import StandardScaler\n",
    "import logging\n",
    "import random\n",
    "import sys\n",
    "\n",
    "from collections import OrderedDict"
   ]
  },
  {
   "cell_type": "code",
   "execution_count": 5,
   "metadata": {
    "collapsed": true
   },
   "outputs": [],
   "source": [
    "def fg_success_rate(fg_data_fname, out_fname, min_pid=473957):\n",
    "    \"\"\"Historical field goal success rates by field position.\n",
    "\n",
    "    By default, uses only attempts from >= 2011 season to reflect\n",
    "    more improved kicker performance.\n",
    "\n",
    "    Returns and writes results to a CSV.\n",
    "\n",
    "    NOTE: These are somewhat sparse and irregular at longer FG ranges.\n",
    "    This is because kickers who attempt long FGs are not selected at\n",
    "    random -- they are either in situations which require a long FG\n",
    "    attempt or are kickers with a known long range. The NYT model\n",
    "    uses a logistic regression kicking model developed by Josh Katz\n",
    "    to smooth out these rates.\n",
    "    \"\"\"\n",
    "    fgs = pd.read_csv(fg_data_fname)\n",
    "\n",
    "    fgs = fgs.loc[(fgs.fgxp == 'FG') & (fgs.pid >= min_pid)].copy()\n",
    "\n",
    "    fgs_grouped = fgs.groupby('dist')['good'].agg(\n",
    "            {'N': len, 'average': np.mean}).reset_index()\n",
    "\n",
    "    fgs_grouped['yfog'] = 100 - (fgs_grouped.dist - 17)\n",
    "    fgs_grouped[['yfog', 'average']].to_csv(out_fname, index=False)\n",
    "\n",
    "    return fgs_grouped"
   ]
  },
  {
   "cell_type": "code",
   "execution_count": 6,
   "metadata": {
    "collapsed": true
   },
   "outputs": [],
   "source": [
    "def nyt_fg_model(fname, outname):\n",
    "    \"\"\"Sub in simple logit for field goal success rates.\"\"\"\n",
    "    fgs = pd.read_csv(fname)\n",
    "    fgs['yfog'] = 100 - (fgs.fg_distance - 17)\n",
    "    fgs.to_csv(outname)\n",
    "    return fgs"
   ]
  },
  {
   "cell_type": "code",
   "execution_count": 7,
   "metadata": {
    "collapsed": true
   },
   "outputs": [],
   "source": [
    "def join_df_first_down_rates(df, fd_open_field, fd_inside_10):\n",
    "    \"\"\"Join the computed first down rates with the play by play data.\"\"\"\n",
    "    open_field = df.loc[df.yfog < 90].reset_index().copy()\n",
    "    open_field['yfog_bin'] = open_field.yfog // 10\n",
    "    open_field = open_field.merge(\n",
    "            fd_open_field, on=['yfog_bin', 'dwn', 'ytg'], how='left')\n",
    "    open_field = open_field.drop('yfog_bin', axis='columns')\n",
    "    inside_10 = df.loc[df.yfog >= 90].reset_index().copy()\n",
    "    inside_10 = inside_10.merge(\n",
    "            fd_inside_10, on=['dwn', 'ytg', 'yfog'], how='left')\n",
    "    new_df = pd.concat([open_field, inside_10]).set_index('pid').sort_index()\n",
    "    return new_df"
   ]
  },
  {
   "cell_type": "code",
   "execution_count": 8,
   "metadata": {
    "collapsed": true
   },
   "outputs": [],
   "source": [
    "pd.set_option('display.max_columns', 200)\n",
    "pd.set_option('display.max_colwidth', 200)\n",
    "pd.set_option('display.width', 200)"
   ]
  },
  {
   "cell_type": "markdown",
   "metadata": {},
   "source": [
    "## Make Data Directory Path"
   ]
  },
  {
   "cell_type": "code",
   "execution_count": 9,
   "metadata": {},
   "outputs": [
    {
     "name": "stdout",
     "output_type": "stream",
     "text": [
      "making data directory\n"
     ]
    }
   ],
   "source": [
    "if not os.path.exists('data'):\n",
    "    print(\"making data directory\")\n",
    "    os.mkdir('data')"
   ]
  },
  {
   "cell_type": "markdown",
   "metadata": {},
   "source": [
    "## Load game & play by play data\n",
    "Load data containing results of each game and return a DataFrame.\n",
    "\n",
    "Parameters\n",
    "----------\n",
    "game_data_fname : str, filename of Armchair Analysis GAME table\n",
    "remove_ties     : boolean, optional\n",
    "\n",
    "Returns\n",
    "-------\n",
    "games           : DataFrame"
   ]
  },
  {
   "cell_type": "code",
   "execution_count": 10,
   "metadata": {
    "scrolled": true
   },
   "outputs": [
    {
     "name": "stdout",
     "output_type": "stream",
     "text": [
      "Loading game data.\n"
     ]
    },
    {
     "ename": "FileNotFoundError",
     "evalue": "File b'csv/GAME.csv' does not exist",
     "output_type": "error",
     "traceback": [
      "\u001b[0;31m---------------------------------------------------------------------------\u001b[0m",
      "\u001b[0;31mFileNotFoundError\u001b[0m                         Traceback (most recent call last)",
      "\u001b[0;32m<ipython-input-10-5dbe359e01de>\u001b[0m in \u001b[0;36m<module>\u001b[0;34m()\u001b[0m\n\u001b[1;32m      3\u001b[0m \u001b[0;34m\u001b[0m\u001b[0m\n\u001b[1;32m      4\u001b[0m \u001b[0;34m\u001b[0m\u001b[0m\n\u001b[0;32m----> 5\u001b[0;31m \u001b[0mgames\u001b[0m \u001b[0;34m=\u001b[0m \u001b[0mpd\u001b[0m\u001b[0;34m.\u001b[0m\u001b[0mread_csv\u001b[0m\u001b[0;34m(\u001b[0m\u001b[0;34m'{}/GAME.csv'\u001b[0m\u001b[0;34m.\u001b[0m\u001b[0mformat\u001b[0m\u001b[0;34m(\u001b[0m\u001b[0;34m'csv'\u001b[0m\u001b[0;34m)\u001b[0m\u001b[0;34m,\u001b[0m \u001b[0mindex_col\u001b[0m\u001b[0;34m=\u001b[0m\u001b[0;36m0\u001b[0m\u001b[0;34m)\u001b[0m\u001b[0;34m\u001b[0m\u001b[0m\n\u001b[0m\u001b[1;32m      6\u001b[0m \u001b[0;34m\u001b[0m\u001b[0m\n\u001b[1;32m      7\u001b[0m \u001b[0;31m# Data from 2000 import is less reliable, omit this season\u001b[0m\u001b[0;34m\u001b[0m\u001b[0;34m\u001b[0m\u001b[0m\n",
      "\u001b[0;32m~/anaconda3/lib/python3.6/site-packages/pandas/io/parsers.py\u001b[0m in \u001b[0;36mparser_f\u001b[0;34m(filepath_or_buffer, sep, delimiter, header, names, index_col, usecols, squeeze, prefix, mangle_dupe_cols, dtype, engine, converters, true_values, false_values, skipinitialspace, skiprows, nrows, na_values, keep_default_na, na_filter, verbose, skip_blank_lines, parse_dates, infer_datetime_format, keep_date_col, date_parser, dayfirst, iterator, chunksize, compression, thousands, decimal, lineterminator, quotechar, quoting, escapechar, comment, encoding, dialect, tupleize_cols, error_bad_lines, warn_bad_lines, skipfooter, skip_footer, doublequote, delim_whitespace, as_recarray, compact_ints, use_unsigned, low_memory, buffer_lines, memory_map, float_precision)\u001b[0m\n\u001b[1;32m    653\u001b[0m                     skip_blank_lines=skip_blank_lines)\n\u001b[1;32m    654\u001b[0m \u001b[0;34m\u001b[0m\u001b[0m\n\u001b[0;32m--> 655\u001b[0;31m         \u001b[0;32mreturn\u001b[0m \u001b[0m_read\u001b[0m\u001b[0;34m(\u001b[0m\u001b[0mfilepath_or_buffer\u001b[0m\u001b[0;34m,\u001b[0m \u001b[0mkwds\u001b[0m\u001b[0;34m)\u001b[0m\u001b[0;34m\u001b[0m\u001b[0m\n\u001b[0m\u001b[1;32m    656\u001b[0m \u001b[0;34m\u001b[0m\u001b[0m\n\u001b[1;32m    657\u001b[0m     \u001b[0mparser_f\u001b[0m\u001b[0;34m.\u001b[0m\u001b[0m__name__\u001b[0m \u001b[0;34m=\u001b[0m \u001b[0mname\u001b[0m\u001b[0;34m\u001b[0m\u001b[0m\n",
      "\u001b[0;32m~/anaconda3/lib/python3.6/site-packages/pandas/io/parsers.py\u001b[0m in \u001b[0;36m_read\u001b[0;34m(filepath_or_buffer, kwds)\u001b[0m\n\u001b[1;32m    403\u001b[0m \u001b[0;34m\u001b[0m\u001b[0m\n\u001b[1;32m    404\u001b[0m     \u001b[0;31m# Create the parser.\u001b[0m\u001b[0;34m\u001b[0m\u001b[0;34m\u001b[0m\u001b[0m\n\u001b[0;32m--> 405\u001b[0;31m     \u001b[0mparser\u001b[0m \u001b[0;34m=\u001b[0m \u001b[0mTextFileReader\u001b[0m\u001b[0;34m(\u001b[0m\u001b[0mfilepath_or_buffer\u001b[0m\u001b[0;34m,\u001b[0m \u001b[0;34m**\u001b[0m\u001b[0mkwds\u001b[0m\u001b[0;34m)\u001b[0m\u001b[0;34m\u001b[0m\u001b[0m\n\u001b[0m\u001b[1;32m    406\u001b[0m \u001b[0;34m\u001b[0m\u001b[0m\n\u001b[1;32m    407\u001b[0m     \u001b[0;32mif\u001b[0m \u001b[0mchunksize\u001b[0m \u001b[0;32mor\u001b[0m \u001b[0miterator\u001b[0m\u001b[0;34m:\u001b[0m\u001b[0;34m\u001b[0m\u001b[0m\n",
      "\u001b[0;32m~/anaconda3/lib/python3.6/site-packages/pandas/io/parsers.py\u001b[0m in \u001b[0;36m__init__\u001b[0;34m(self, f, engine, **kwds)\u001b[0m\n\u001b[1;32m    762\u001b[0m             \u001b[0mself\u001b[0m\u001b[0;34m.\u001b[0m\u001b[0moptions\u001b[0m\u001b[0;34m[\u001b[0m\u001b[0;34m'has_index_names'\u001b[0m\u001b[0;34m]\u001b[0m \u001b[0;34m=\u001b[0m \u001b[0mkwds\u001b[0m\u001b[0;34m[\u001b[0m\u001b[0;34m'has_index_names'\u001b[0m\u001b[0;34m]\u001b[0m\u001b[0;34m\u001b[0m\u001b[0m\n\u001b[1;32m    763\u001b[0m \u001b[0;34m\u001b[0m\u001b[0m\n\u001b[0;32m--> 764\u001b[0;31m         \u001b[0mself\u001b[0m\u001b[0;34m.\u001b[0m\u001b[0m_make_engine\u001b[0m\u001b[0;34m(\u001b[0m\u001b[0mself\u001b[0m\u001b[0;34m.\u001b[0m\u001b[0mengine\u001b[0m\u001b[0;34m)\u001b[0m\u001b[0;34m\u001b[0m\u001b[0m\n\u001b[0m\u001b[1;32m    765\u001b[0m \u001b[0;34m\u001b[0m\u001b[0m\n\u001b[1;32m    766\u001b[0m     \u001b[0;32mdef\u001b[0m \u001b[0mclose\u001b[0m\u001b[0;34m(\u001b[0m\u001b[0mself\u001b[0m\u001b[0;34m)\u001b[0m\u001b[0;34m:\u001b[0m\u001b[0;34m\u001b[0m\u001b[0m\n",
      "\u001b[0;32m~/anaconda3/lib/python3.6/site-packages/pandas/io/parsers.py\u001b[0m in \u001b[0;36m_make_engine\u001b[0;34m(self, engine)\u001b[0m\n\u001b[1;32m    983\u001b[0m     \u001b[0;32mdef\u001b[0m \u001b[0m_make_engine\u001b[0m\u001b[0;34m(\u001b[0m\u001b[0mself\u001b[0m\u001b[0;34m,\u001b[0m \u001b[0mengine\u001b[0m\u001b[0;34m=\u001b[0m\u001b[0;34m'c'\u001b[0m\u001b[0;34m)\u001b[0m\u001b[0;34m:\u001b[0m\u001b[0;34m\u001b[0m\u001b[0m\n\u001b[1;32m    984\u001b[0m         \u001b[0;32mif\u001b[0m \u001b[0mengine\u001b[0m \u001b[0;34m==\u001b[0m \u001b[0;34m'c'\u001b[0m\u001b[0;34m:\u001b[0m\u001b[0;34m\u001b[0m\u001b[0m\n\u001b[0;32m--> 985\u001b[0;31m             \u001b[0mself\u001b[0m\u001b[0;34m.\u001b[0m\u001b[0m_engine\u001b[0m \u001b[0;34m=\u001b[0m \u001b[0mCParserWrapper\u001b[0m\u001b[0;34m(\u001b[0m\u001b[0mself\u001b[0m\u001b[0;34m.\u001b[0m\u001b[0mf\u001b[0m\u001b[0;34m,\u001b[0m \u001b[0;34m**\u001b[0m\u001b[0mself\u001b[0m\u001b[0;34m.\u001b[0m\u001b[0moptions\u001b[0m\u001b[0;34m)\u001b[0m\u001b[0;34m\u001b[0m\u001b[0m\n\u001b[0m\u001b[1;32m    986\u001b[0m         \u001b[0;32melse\u001b[0m\u001b[0;34m:\u001b[0m\u001b[0;34m\u001b[0m\u001b[0m\n\u001b[1;32m    987\u001b[0m             \u001b[0;32mif\u001b[0m \u001b[0mengine\u001b[0m \u001b[0;34m==\u001b[0m \u001b[0;34m'python'\u001b[0m\u001b[0;34m:\u001b[0m\u001b[0;34m\u001b[0m\u001b[0m\n",
      "\u001b[0;32m~/anaconda3/lib/python3.6/site-packages/pandas/io/parsers.py\u001b[0m in \u001b[0;36m__init__\u001b[0;34m(self, src, **kwds)\u001b[0m\n\u001b[1;32m   1603\u001b[0m         \u001b[0mkwds\u001b[0m\u001b[0;34m[\u001b[0m\u001b[0;34m'allow_leading_cols'\u001b[0m\u001b[0;34m]\u001b[0m \u001b[0;34m=\u001b[0m \u001b[0mself\u001b[0m\u001b[0;34m.\u001b[0m\u001b[0mindex_col\u001b[0m \u001b[0;32mis\u001b[0m \u001b[0;32mnot\u001b[0m \u001b[0;32mFalse\u001b[0m\u001b[0;34m\u001b[0m\u001b[0m\n\u001b[1;32m   1604\u001b[0m \u001b[0;34m\u001b[0m\u001b[0m\n\u001b[0;32m-> 1605\u001b[0;31m         \u001b[0mself\u001b[0m\u001b[0;34m.\u001b[0m\u001b[0m_reader\u001b[0m \u001b[0;34m=\u001b[0m \u001b[0mparsers\u001b[0m\u001b[0;34m.\u001b[0m\u001b[0mTextReader\u001b[0m\u001b[0;34m(\u001b[0m\u001b[0msrc\u001b[0m\u001b[0;34m,\u001b[0m \u001b[0;34m**\u001b[0m\u001b[0mkwds\u001b[0m\u001b[0;34m)\u001b[0m\u001b[0;34m\u001b[0m\u001b[0m\n\u001b[0m\u001b[1;32m   1606\u001b[0m \u001b[0;34m\u001b[0m\u001b[0m\n\u001b[1;32m   1607\u001b[0m         \u001b[0;31m# XXX\u001b[0m\u001b[0;34m\u001b[0m\u001b[0;34m\u001b[0m\u001b[0m\n",
      "\u001b[0;32mpandas/_libs/parsers.pyx\u001b[0m in \u001b[0;36mpandas._libs.parsers.TextReader.__cinit__ (pandas/_libs/parsers.c:4209)\u001b[0;34m()\u001b[0m\n",
      "\u001b[0;32mpandas/_libs/parsers.pyx\u001b[0m in \u001b[0;36mpandas._libs.parsers.TextReader._setup_parser_source (pandas/_libs/parsers.c:8873)\u001b[0;34m()\u001b[0m\n",
      "\u001b[0;31mFileNotFoundError\u001b[0m: File b'csv/GAME.csv' does not exist"
     ]
    }
   ],
   "source": [
    "print('Loading game data.')\n",
    "#games = load_games('{}/GAME.csv'.format('csv'))\n",
    "\n",
    "## Please contact for data\n",
    "games = pd.read_csv('{}/GAME.csv'.format('csv'), index_col=0)\n",
    "\n",
    "# Data from 2000 import is less reliable, omit this season\n",
    "# and use regular season games only.\n",
    "\n",
    "games = (games.query('seas >= 2001 & wk <= 17')\n",
    "              .drop(['stad', 'temp', 'humd', 'wspd',\n",
    "                     'wdir', 'cond', 'surf'],\n",
    "                    axis='columns'))\n",
    "\n",
    "def winner(row):\n",
    "    \"\"\"Returns the team name that won the game, otherwise returns 'TIE'\"\"\"\n",
    "    if row.ptsv > row.ptsh:\n",
    "        return row.v\n",
    "    elif row.ptsh > row.ptsv:\n",
    "        return row.h\n",
    "    else:\n",
    "        return 'TIE'\n",
    "\n",
    "\n",
    "games['winner'] = games.apply(winner, axis=1)\n",
    "games = games[games['winner'] != 'TIE']"
   ]
  },
  {
   "cell_type": "code",
   "execution_count": 11,
   "metadata": {},
   "outputs": [
    {
     "ename": "NameError",
     "evalue": "name 'games' is not defined",
     "output_type": "error",
     "traceback": [
      "\u001b[0;31m---------------------------------------------------------------------------\u001b[0m",
      "\u001b[0;31mNameError\u001b[0m                                 Traceback (most recent call last)",
      "\u001b[0;32m<ipython-input-11-eaec5fb4fe91>\u001b[0m in \u001b[0;36m<module>\u001b[0;34m()\u001b[0m\n\u001b[0;32m----> 1\u001b[0;31m \u001b[0mgames\u001b[0m\u001b[0;34m.\u001b[0m\u001b[0mhead\u001b[0m\u001b[0;34m(\u001b[0m\u001b[0;34m)\u001b[0m\u001b[0;34m\u001b[0m\u001b[0m\n\u001b[0m",
      "\u001b[0;31mNameError\u001b[0m: name 'games' is not defined"
     ]
    }
   ],
   "source": [
    "games.head()"
   ]
  },
  {
   "cell_type": "markdown",
   "metadata": {},
   "source": [
    "## Load the play by play data and return a DataFrame.\n",
    "\n",
    "Parameters\n",
    "----------\n",
    "pbp_data_fname : str, location of play by play data\n",
    "games          : DataFrame, game-level DataFrame created by load_games\n",
    "remove_knees   : boolean, optional\n",
    "\n",
    "Returns\n",
    "-------\n",
    "pbp            : DataFrame"
   ]
  },
  {
   "cell_type": "code",
   "execution_count": 98,
   "metadata": {},
   "outputs": [
    {
     "name": "stdout",
     "output_type": "stream",
     "text": [
      "Loading play by play data.\n"
     ]
    }
   ],
   "source": [
    "print('Loading play by play data.')\n",
    "pbp = pd.read_csv('{}/PBP.csv'.format('csv'), index_col=1, low_memory=False,\n",
    "                  usecols=['gid', 'pid', 'off', 'def', 'type', 'qtr',\n",
    "                           'min', 'sec', 'kne', 'ptso', 'ptsd', 'timo',\n",
    "                           'timd', 'dwn', 'ytg', 'yfog', 'yds', 'fd',\n",
    "                           'fgxp', 'good', 'pnet', 'pts', 'detail'])\n",
    "\n",
    "# Remove overtime\n",
    "pbp = pbp[pbp.qtr <= 4]\n",
    "\n",
    "# pid 183134 should have a value of 0 for min, but has \"0:00\"\n",
    "#pbp['min'] = pbp['min'].replace({'0:00': 0})\n",
    "pbp['min'] = pbp['min'].astype(np.int64)\n",
    "\n",
    "# Restrict to regular season games after 2000\n",
    "pbp = pbp[pbp.gid.isin(games.index)]\n",
    "\n",
    "## Remove Kneel Down Plays\n",
    "pbp = pbp[pbp.kne.isnull()]"
   ]
  },
  {
   "cell_type": "code",
   "execution_count": 100,
   "metadata": {},
   "outputs": [
    {
     "data": {
      "text/html": [
       "<div>\n",
       "<table border=\"1\" class=\"dataframe\">\n",
       "  <thead>\n",
       "    <tr style=\"text-align: right;\">\n",
       "      <th></th>\n",
       "      <th>gid</th>\n",
       "      <th>detail</th>\n",
       "      <th>off</th>\n",
       "      <th>def</th>\n",
       "      <th>type</th>\n",
       "      <th>qtr</th>\n",
       "      <th>min</th>\n",
       "      <th>sec</th>\n",
       "      <th>ptso</th>\n",
       "      <th>ptsd</th>\n",
       "      <th>timo</th>\n",
       "      <th>timd</th>\n",
       "      <th>dwn</th>\n",
       "      <th>ytg</th>\n",
       "      <th>yfog</th>\n",
       "      <th>yds</th>\n",
       "      <th>fd</th>\n",
       "      <th>pts</th>\n",
       "      <th>kne</th>\n",
       "      <th>fgxp</th>\n",
       "      <th>good</th>\n",
       "      <th>pnet</th>\n",
       "    </tr>\n",
       "    <tr>\n",
       "      <th>pid</th>\n",
       "      <th></th>\n",
       "      <th></th>\n",
       "      <th></th>\n",
       "      <th></th>\n",
       "      <th></th>\n",
       "      <th></th>\n",
       "      <th></th>\n",
       "      <th></th>\n",
       "      <th></th>\n",
       "      <th></th>\n",
       "      <th></th>\n",
       "      <th></th>\n",
       "      <th></th>\n",
       "      <th></th>\n",
       "      <th></th>\n",
       "      <th></th>\n",
       "      <th></th>\n",
       "      <th></th>\n",
       "      <th></th>\n",
       "      <th></th>\n",
       "      <th></th>\n",
       "      <th></th>\n",
       "    </tr>\n",
       "  </thead>\n",
       "  <tbody>\n",
       "    <tr>\n",
       "      <th>42252</th>\n",
       "      <td>260</td>\n",
       "      <td>M.Stover kicks 59 yards from BAL 30 to CHI 11. J.Azumah to CHI 24 for 13 yards (B.Jackson).</td>\n",
       "      <td>CHI</td>\n",
       "      <td>BAL</td>\n",
       "      <td>KOFF</td>\n",
       "      <td>1</td>\n",
       "      <td>15</td>\n",
       "      <td>0</td>\n",
       "      <td>0</td>\n",
       "      <td>0</td>\n",
       "      <td>3</td>\n",
       "      <td>3</td>\n",
       "      <td>NaN</td>\n",
       "      <td>NaN</td>\n",
       "      <td>NaN</td>\n",
       "      <td>NaN</td>\n",
       "      <td>NaN</td>\n",
       "      <td>NaN</td>\n",
       "      <td>NaN</td>\n",
       "      <td>NaN</td>\n",
       "      <td>NaN</td>\n",
       "      <td>NaN</td>\n",
       "    </tr>\n",
       "    <tr>\n",
       "      <th>42253</th>\n",
       "      <td>260</td>\n",
       "      <td>(14:52) J.Allen left guard to CHI 28 for 4 yards (C.Harris).</td>\n",
       "      <td>CHI</td>\n",
       "      <td>BAL</td>\n",
       "      <td>RUSH</td>\n",
       "      <td>1</td>\n",
       "      <td>14</td>\n",
       "      <td>52</td>\n",
       "      <td>0</td>\n",
       "      <td>0</td>\n",
       "      <td>3</td>\n",
       "      <td>3</td>\n",
       "      <td>1.0</td>\n",
       "      <td>10.0</td>\n",
       "      <td>24.0</td>\n",
       "      <td>4.0</td>\n",
       "      <td>NaN</td>\n",
       "      <td>NaN</td>\n",
       "      <td>NaN</td>\n",
       "      <td>NaN</td>\n",
       "      <td>NaN</td>\n",
       "      <td>NaN</td>\n",
       "    </tr>\n",
       "    <tr>\n",
       "      <th>42254</th>\n",
       "      <td>260</td>\n",
       "      <td>(14:31) S.Matthews pass to J.Allen to CHI 36 for 8 yards (J.Sharper).</td>\n",
       "      <td>CHI</td>\n",
       "      <td>BAL</td>\n",
       "      <td>PASS</td>\n",
       "      <td>1</td>\n",
       "      <td>14</td>\n",
       "      <td>31</td>\n",
       "      <td>0</td>\n",
       "      <td>0</td>\n",
       "      <td>3</td>\n",
       "      <td>3</td>\n",
       "      <td>2.0</td>\n",
       "      <td>6.0</td>\n",
       "      <td>28.0</td>\n",
       "      <td>8.0</td>\n",
       "      <td>Y</td>\n",
       "      <td>NaN</td>\n",
       "      <td>NaN</td>\n",
       "      <td>NaN</td>\n",
       "      <td>NaN</td>\n",
       "      <td>NaN</td>\n",
       "    </tr>\n",
       "    <tr>\n",
       "      <th>42255</th>\n",
       "      <td>260</td>\n",
       "      <td>(13:55) J.Allen up the middle to CHI 42 for 6 yards (J.Sharper).</td>\n",
       "      <td>CHI</td>\n",
       "      <td>BAL</td>\n",
       "      <td>RUSH</td>\n",
       "      <td>1</td>\n",
       "      <td>13</td>\n",
       "      <td>55</td>\n",
       "      <td>0</td>\n",
       "      <td>0</td>\n",
       "      <td>3</td>\n",
       "      <td>3</td>\n",
       "      <td>1.0</td>\n",
       "      <td>10.0</td>\n",
       "      <td>36.0</td>\n",
       "      <td>6.0</td>\n",
       "      <td>NaN</td>\n",
       "      <td>NaN</td>\n",
       "      <td>NaN</td>\n",
       "      <td>NaN</td>\n",
       "      <td>NaN</td>\n",
       "      <td>NaN</td>\n",
       "    </tr>\n",
       "    <tr>\n",
       "      <th>42256</th>\n",
       "      <td>260</td>\n",
       "      <td>(13:21) S.Matthews pass to D.White pushed ob at BAL 38 for 20 yards (C.McAlister). Penalty on BAL-M.McCrary, Defensive Offside, declined.</td>\n",
       "      <td>CHI</td>\n",
       "      <td>BAL</td>\n",
       "      <td>PASS</td>\n",
       "      <td>1</td>\n",
       "      <td>13</td>\n",
       "      <td>21</td>\n",
       "      <td>0</td>\n",
       "      <td>0</td>\n",
       "      <td>3</td>\n",
       "      <td>3</td>\n",
       "      <td>2.0</td>\n",
       "      <td>4.0</td>\n",
       "      <td>42.0</td>\n",
       "      <td>20.0</td>\n",
       "      <td>Y</td>\n",
       "      <td>NaN</td>\n",
       "      <td>NaN</td>\n",
       "      <td>NaN</td>\n",
       "      <td>NaN</td>\n",
       "      <td>NaN</td>\n",
       "    </tr>\n",
       "  </tbody>\n",
       "</table>\n",
       "</div>"
      ],
      "text/plain": [
       "       gid                                                                                                                                     detail  off  def  type  qtr  min  sec  ptso  ptsd  \\\n",
       "pid                                                                                                                                                                                                \n",
       "42252  260                                                M.Stover kicks 59 yards from BAL 30 to CHI 11. J.Azumah to CHI 24 for 13 yards (B.Jackson).  CHI  BAL  KOFF    1   15    0     0     0   \n",
       "42253  260                                                                               (14:52) J.Allen left guard to CHI 28 for 4 yards (C.Harris).  CHI  BAL  RUSH    1   14   52     0     0   \n",
       "42254  260                                                                      (14:31) S.Matthews pass to J.Allen to CHI 36 for 8 yards (J.Sharper).  CHI  BAL  PASS    1   14   31     0     0   \n",
       "42255  260                                                                           (13:55) J.Allen up the middle to CHI 42 for 6 yards (J.Sharper).  CHI  BAL  RUSH    1   13   55     0     0   \n",
       "42256  260  (13:21) S.Matthews pass to D.White pushed ob at BAL 38 for 20 yards (C.McAlister). Penalty on BAL-M.McCrary, Defensive Offside, declined.  CHI  BAL  PASS    1   13   21     0     0   \n",
       "\n",
       "       timo  timd  dwn   ytg  yfog   yds   fd  pts  kne fgxp good  pnet  \n",
       "pid                                                                      \n",
       "42252     3     3  NaN   NaN   NaN   NaN  NaN  NaN  NaN  NaN  NaN   NaN  \n",
       "42253     3     3  1.0  10.0  24.0   4.0  NaN  NaN  NaN  NaN  NaN   NaN  \n",
       "42254     3     3  2.0   6.0  28.0   8.0    Y  NaN  NaN  NaN  NaN   NaN  \n",
       "42255     3     3  1.0  10.0  36.0   6.0  NaN  NaN  NaN  NaN  NaN   NaN  \n",
       "42256     3     3  2.0   4.0  42.0  20.0    Y  NaN  NaN  NaN  NaN   NaN  "
      ]
     },
     "execution_count": 100,
     "metadata": {},
     "output_type": "execute_result"
    }
   ],
   "source": [
    "pbp.head()"
   ]
  },
  {
   "cell_type": "markdown",
   "metadata": {},
   "source": [
    "## Join game and play by play data"
   ]
  },
  {
   "cell_type": "code",
   "execution_count": 99,
   "metadata": {},
   "outputs": [
    {
     "name": "stdout",
     "output_type": "stream",
     "text": [
      "Joining game and play by play data.\n"
     ]
    }
   ],
   "source": [
    "print('Joining game and play by play data.')\n",
    "joined = pbp.merge(games, left_on='gid', right_index=True)"
   ]
  },
  {
   "cell_type": "markdown",
   "metadata": {},
   "source": [
    "## Munging data\n",
    "Swap game state columns for offense & defense dependent variables.\n",
    "The play by play data has some statistics on punts and kickoffs in terms\n",
    "of the receiving team. Switch these to reflect the game state for\n",
    "the kicking team."
   ]
  },
  {
   "cell_type": "code",
   "execution_count": 103,
   "metadata": {},
   "outputs": [
    {
     "name": "stdout",
     "output_type": "stream",
     "text": [
      "Munging data...\n"
     ]
    }
   ],
   "source": [
    "print('Munging data...')\n",
    "\n",
    "joined.loc[(joined['type'] == 'PUNT') | (joined['type'] == 'KOFF'),\n",
    "       ['off', 'def', 'ptso', 'ptsd', 'timo', 'timd']] = joined.loc[\n",
    "               (joined['type'] == 'PUNT') | (joined['type'] == 'KOFF'),\n",
    "               ['def', 'off', 'ptsd', 'ptso', 'timd', 'timo']].values\n",
    "\n",
    "# If any points are scored on a PUNT/KOFF, they are given in terms\n",
    "# of the receiving team -- switch this.\n",
    "\n",
    "joined.loc[(joined['type'] == 'PUNT') | (joined['type'] == 'KOFF'), 'pts'] = (\n",
    "        -1 * joined.loc[(joined['type'] == 'PUNT') | (joined['type'] == 'KOFF'),\n",
    "                    'pts'].values)"
   ]
  },
  {
   "cell_type": "markdown",
   "metadata": {},
   "source": [
    "## Modify the spread so that the sign is negative when the offense is favored and positive otherwise"
   ]
  },
  {
   "cell_type": "code",
   "execution_count": 104,
   "metadata": {
    "collapsed": true
   },
   "outputs": [],
   "source": [
    "joined['spread'] = joined.sprv\n",
    "joined.loc[joined.off != joined.v, 'spread'] = (\n",
    "        -1.0 * joined.loc[joined.off != joined.v, 'spread'])"
   ]
  },
  {
   "cell_type": "markdown",
   "metadata": {},
   "source": [
    "## For model purposes, touchdowns are \"first downs\" (successful conversion)"
   ]
  },
  {
   "cell_type": "code",
   "execution_count": 105,
   "metadata": {
    "collapsed": true
   },
   "outputs": [],
   "source": [
    "joined['first_down'] = (joined.fd.notnull()) | (joined.pts >= 6)"
   ]
  },
  {
   "cell_type": "markdown",
   "metadata": {},
   "source": [
    "## Add winners for classification task"
   ]
  },
  {
   "cell_type": "code",
   "execution_count": 106,
   "metadata": {
    "collapsed": true
   },
   "outputs": [],
   "source": [
    "joined['win'] = (joined.off == joined.winner).astype(np.uint8)"
   ]
  },
  {
   "cell_type": "markdown",
   "metadata": {},
   "source": [
    "## Features needed for the win probability model"
   ]
  },
  {
   "cell_type": "code",
   "execution_count": 107,
   "metadata": {
    "collapsed": true
   },
   "outputs": [],
   "source": [
    "joined['score_diff'] = joined.ptso - joined.ptsd\n",
    "joined['secs_left'] = (((4 - joined.qtr) * 15.0) * 60 +\n",
    "                       (joined['min'] * 60) + joined.sec)"
   ]
  },
  {
   "cell_type": "markdown",
   "metadata": {},
   "source": [
    "## Group all fourth downs that indicate if the team went for it or not by down, yards to go, and yards from own goal\n",
    "Parse all fourth downs and determine if teams intended to go for it,\n",
    "punt, or attempt a field goal. If intent is not clear, do not include\n",
    "the play."
   ]
  },
  {
   "cell_type": "code",
   "execution_count": 108,
   "metadata": {},
   "outputs": [
    {
     "name": "stdout",
     "output_type": "stream",
     "text": [
      "Processing fourth downs.\n"
     ]
    }
   ],
   "source": [
    "print('Processing fourth downs.')\n",
    "\n",
    "fourths = joined.loc[joined.dwn == 4, :].copy()\n",
    "fourths['goforit'] = np.zeros(fourths.shape[0])\n",
    "fourths['punt'] = np.zeros(fourths.shape[0])\n",
    "fourths['kick'] = np.zeros(fourths.shape[0])\n",
    "\n",
    "# Omit false start, delay of game, encroachment, neutral zone infraction\n",
    "# We cannot infer from these plays if the offense was going to\n",
    "# go for it or not.\n",
    "\n",
    "omitstring = (r'encroachment|false start|delay of game|neutral zone '\n",
    "              'infraction')\n",
    "fourths = fourths[-(fourths.detail.str.contains(omitstring, case=False))]\n",
    "\n",
    "# Ran a play\n",
    "fourths.loc[(fourths['type'] == 'RUSH') |\n",
    "            (fourths['type'] == 'PASS'), 'goforit'] = 1\n",
    "\n",
    "fourths.loc[(fourths['type'] == 'RUSH') |\n",
    "            (fourths['type'] == 'PASS'), 'punt'] = 0\n",
    "\n",
    "fourths.loc[(fourths['type'] == 'RUSH') |\n",
    "            (fourths['type'] == 'PASS'), 'kick'] = 0\n",
    "\n",
    "# Field goal attempts and punts\n",
    "fourths.loc[(fourths['type'] == 'FGXP') |\n",
    "            (fourths['type'] == 'PUNT'), 'goforit'] = 0\n",
    "\n",
    "fourths.loc[(fourths['type'] == 'FGXP'), 'kick'] = 1\n",
    "fourths.loc[(fourths['type'] == 'PUNT'), 'punt'] = 1\n",
    "\n",
    "# Punted, but penalty on play\n",
    "puntstring = r'punts|out of bounds'\n",
    "fourths.loc[(fourths['type'] == 'NOPL') &\n",
    "            (fourths.detail.str.contains(puntstring, case=False)),\n",
    "            'punt'] = 1\n",
    "\n",
    "# Kicked, but penalty on play\n",
    "kickstring = r'field goal is|field goal attempt'\n",
    "fourths.loc[(fourths['type'] == 'NOPL') &\n",
    "            (fourths.detail.str.contains(kickstring, case=False)),\n",
    "            'kick'] = 1\n",
    "\n",
    "# Went for it, but penalty on play\n",
    "gostring = (r'pass to|incomplete|sacked|left end|up the middle|'\n",
    "            'pass interference|right tackle|right guard|right end|'\n",
    "            'pass intended|left tackle|left guard|pass deep|'\n",
    "            'pass short|up the middle')\n",
    "\n",
    "fourths.loc[(fourths['type'] == 'NOPL') &\n",
    "            (fourths.detail.str.contains(gostring, case=False)) &\n",
    "            -(fourths.detail.str.contains(puntstring, case=False)) &\n",
    "            -(fourths.detail.str.contains(kickstring, case=False)),\n",
    "            'goforit'] = 1\n",
    "\n",
    "fourths = fourths[fourths[['goforit', 'punt', 'kick']].sum(axis=1) == 1]"
   ]
  },
  {
   "cell_type": "markdown",
   "metadata": {},
   "source": [
    "## Merge the goforit column back into all plays, not just fourth downs\n",
    "Group 4th down decisions by score difference and field\n",
    "position to get coarse historical comparisons.\n",
    "\n",
    "Writes these to a CSV and returns them."
   ]
  },
  {
   "cell_type": "code",
   "execution_count": 109,
   "metadata": {},
   "outputs": [
    {
     "name": "stdout",
     "output_type": "stream",
     "text": [
      "Grouping and saving historical 4th down decisions.\n"
     ]
    }
   ],
   "source": [
    "joined = joined.merge(fourths[['goforit']], left_index=True,\n",
    "                      right_index=True, how='left')\n",
    "\n",
    "print('Grouping and saving historical 4th down decisions.')\n",
    "\n",
    "df = fourths.copy()\n",
    "\n",
    "df['down_by_td'] = (df.score_diff <= -4).astype(np.uint8)\n",
    "df['up_by_td'] = (df.score_diff >= 4).astype(np.uint8)\n",
    "df['yfog_bin'] = df.yfog // 20\n",
    "df['short'] = (df.ytg <= 3).astype(np.uint8)\n",
    "df['med'] = ((df.ytg >= 4) & (df.ytg <= 7)).astype(np.uint8)\n",
    "df['long'] = (df.ytg > 7).astype(np.uint8)\n",
    "\n",
    "grouped = df.groupby(['down_by_td', 'up_by_td', 'yfog_bin',\n",
    "                      'short', 'med', 'long'])\n",
    "\n",
    "goforit = grouped['goforit'].agg({'proportion_went': np.mean,\n",
    "                                  'sample_size': len})\n",
    "punt = grouped['punt'].agg({'proportion_punted': np.mean,\n",
    "                            'sample_size': len})\n",
    "kick = grouped['kick'].agg({'proportion_kicked': np.mean,\n",
    "                           'sample_size': len})\n",
    "\n",
    "decisions = goforit.merge(\n",
    "        punt.merge(kick, left_index=True, right_index=True,\n",
    "                   suffixes=['_punt', '_kick']),\n",
    "        left_index=True, right_index=True, suffixes=['_goforit', 'punt'])\n",
    "\n",
    "decisions.to_csv('data/coaches_decisions.csv')"
   ]
  },
  {
   "cell_type": "markdown",
   "metadata": {},
   "source": [
    "## Group Fourths"
   ]
  },
  {
   "cell_type": "code",
   "execution_count": 110,
   "metadata": {
    "collapsed": true
   },
   "outputs": [],
   "source": [
    "fourths_grouped = fourths.groupby(['dwn', 'ytg', 'yfog'])['goforit'].agg(\n",
    "    {'N': len, 'mean': np.mean})\n",
    "\n",
    "fourths_grouped.to_csv('data/fourths_grouped.csv', index=False)"
   ]
  },
  {
   "cell_type": "markdown",
   "metadata": {},
   "source": [
    "## Remove kickoffs and extra points, retain FGs\n",
    "\n",
    "Historical field goal success rates by field position.\n",
    "\n",
    "By default, uses only attempts from >= 2011 season to reflect\n",
    "more improved kicker performance.\n",
    "\n",
    "Returns and writes results to a CSV.\n",
    "\n",
    "NOTE: These are somewhat sparse and irregular at longer FG ranges.\n",
    "This is because kickers who attempt long FGs are not selected at\n",
    "random -- they are either in situations which require a long FG\n",
    "attempt or are kickers with a known long range. The NYT model\n",
    "uses a logistic regression kicking model developed by Josh Katz\n",
    "to smooth out these rates."
   ]
  },
  {
   "cell_type": "code",
   "execution_count": 111,
   "metadata": {},
   "outputs": [
    {
     "name": "stdout",
     "output_type": "stream",
     "text": [
      "Grouping and saving field goal attempts and punts.\n"
     ]
    }
   ],
   "source": [
    "joined = joined[(joined['type'] != 'KOFF') & (joined.fgxp != 'XP')]\n",
    "\n",
    "print('Grouping and saving field goal attempts and punts.')\n",
    "\n",
    "\n",
    "fgs = pd.read_csv('{}/FGXP.csv'.format('csv'))\n",
    "min_pid=473957 ## Only since 2011\n",
    "fgs = fgs.loc[(fgs.fgxp == 'FG') & (fgs.pid >= min_pid)].copy()\n",
    "\n",
    "fgs_grouped = fgs.groupby('dist')['good'].agg(\n",
    "        {'N': len, 'average': np.mean}).reset_index()\n",
    "\n",
    "fgs_grouped['yfog'] = 100 - (fgs_grouped.dist - 17)\n",
    "fgs_grouped[['yfog', 'average']].to_csv('data/fgs_grouped.csv', index=False)"
   ]
  },
  {
   "cell_type": "code",
   "execution_count": 112,
   "metadata": {},
   "outputs": [
    {
     "data": {
      "text/html": [
       "<div>\n",
       "<table border=\"1\" class=\"dataframe\">\n",
       "  <thead>\n",
       "    <tr style=\"text-align: right;\">\n",
       "      <th></th>\n",
       "      <th>dist</th>\n",
       "      <th>average</th>\n",
       "      <th>N</th>\n",
       "      <th>yfog</th>\n",
       "    </tr>\n",
       "  </thead>\n",
       "  <tbody>\n",
       "    <tr>\n",
       "      <th>0</th>\n",
       "      <td>18</td>\n",
       "      <td>1.000000</td>\n",
       "      <td>8</td>\n",
       "      <td>99</td>\n",
       "    </tr>\n",
       "    <tr>\n",
       "      <th>1</th>\n",
       "      <td>19</td>\n",
       "      <td>1.000000</td>\n",
       "      <td>61</td>\n",
       "      <td>98</td>\n",
       "    </tr>\n",
       "    <tr>\n",
       "      <th>2</th>\n",
       "      <td>20</td>\n",
       "      <td>0.992063</td>\n",
       "      <td>126</td>\n",
       "      <td>97</td>\n",
       "    </tr>\n",
       "    <tr>\n",
       "      <th>3</th>\n",
       "      <td>21</td>\n",
       "      <td>0.982759</td>\n",
       "      <td>116</td>\n",
       "      <td>96</td>\n",
       "    </tr>\n",
       "    <tr>\n",
       "      <th>4</th>\n",
       "      <td>22</td>\n",
       "      <td>0.978417</td>\n",
       "      <td>139</td>\n",
       "      <td>95</td>\n",
       "    </tr>\n",
       "  </tbody>\n",
       "</table>\n",
       "</div>"
      ],
      "text/plain": [
       "   dist   average    N  yfog\n",
       "0    18  1.000000    8    99\n",
       "1    19  1.000000   61    98\n",
       "2    20  0.992063  126    97\n",
       "3    21  0.982759  116    96\n",
       "4    22  0.978417  139    95"
      ]
     },
     "execution_count": 112,
     "metadata": {},
     "output_type": "execute_result"
    }
   ],
   "source": [
    "fgs_grouped.head()"
   ]
  },
  {
   "cell_type": "markdown",
   "metadata": {},
   "source": [
    "## Punt Distances\n",
    "Group punts by kicking field position to get average return distance.\n",
    "Currently does not incorporate the possibility of a muffed punt\n",
    "or punt returned for a TD."
   ]
  },
  {
   "cell_type": "code",
   "execution_count": 113,
   "metadata": {
    "collapsed": true
   },
   "outputs": [],
   "source": [
    "punts = pd.read_csv('{}/PUNT.csv'.format('csv'), index_col=0)\n",
    "\n",
    "punts = pd.merge(punts, joined[['yfog']],\n",
    "                 left_index=True, right_index=True)\n",
    "\n",
    "punts_dist = pd.DataFrame(punts.groupby('yfog')['pnet']\n",
    "                               .mean().reset_index())\n",
    "\n",
    "punts_dist.to_csv('data/punts_grouped.csv', index=False)"
   ]
  },
  {
   "cell_type": "code",
   "execution_count": 114,
   "metadata": {},
   "outputs": [
    {
     "data": {
      "text/plain": [
       "<matplotlib.axes._subplots.AxesSubplot at 0xe7286d8>"
      ]
     },
     "execution_count": 114,
     "metadata": {},
     "output_type": "execute_result"
    },
    {
     "data": {
      "image/png": "[encoded data removed]",
      "text/plain": [
       "<matplotlib.figure.Figure at 0xd72cd68>"
      ]
     },
     "metadata": {},
     "output_type": "display_data"
    }
   ],
   "source": [
    "punts_dist.plot(kind='scatter', x='yfog', y='pnet')"
   ]
  },
  {
   "cell_type": "markdown",
   "metadata": {},
   "source": [
    "## Code situations where the offense can take a knee(s) to win\n",
    "Code a situation a 1 if the offense can kneel to end the game\n",
    "based on time remaining, defensive timeouts remaining,\n",
    "down, and score difference."
   ]
  },
  {
   "cell_type": "code",
   "execution_count": 115,
   "metadata": {},
   "outputs": [
    {
     "name": "stdout",
     "output_type": "stream",
     "text": [
      "Coding kneel downs.\n"
     ]
    }
   ],
   "source": [
    "print('Coding kneel downs.')\n",
    "\n",
    "joined['kneel_down'] = np.zeros(joined.shape[0])\n",
    "\n",
    "joined.loc[(joined.timd == 0) & (joined.secs_left <= 120) & (joined.dwn == 1) &\n",
    "       (joined.score_diff > 0), 'kneel_down'] = 1\n",
    "joined.loc[(joined.timd == 1) & (joined.secs_left <= 84) & (joined.dwn == 1) &\n",
    "       (joined.score_diff > 0), 'kneel_down'] = 1\n",
    "joined.loc[(joined.timd == 2) & (joined.secs_left <= 48) & (joined.dwn == 1) &\n",
    "       (df.score_diff > 0), 'kneel_down'] = 1\n",
    "\n",
    "joined.loc[(joined.timd == 0) & (joined.secs_left <= 84) & (joined.dwn == 2) &\n",
    "       (joined.score_diff > 0), 'kneel_down'] = 1\n",
    "joined.loc[(joined.timd == 1) & (joined.secs_left <= 45) & (joined.dwn == 2) &\n",
    "       (joined.score_diff > 0), 'kneel_down'] = 1\n",
    "\n",
    "joined.loc[(joined.timd == 0) & (joined.secs_left <= 42) & (joined.dwn == 3) &\n",
    "       (joined.score_diff > 0), 'kneel_down'] = 1\n",
    "\n",
    "joined.loc[(joined.score_diff <= 0) | (joined.dwn == 4), 'kneel_down'] = 0"
   ]
  },
  {
   "cell_type": "markdown",
   "metadata": {},
   "source": [
    "## Only rush & pass plays that were actually executed are eligible for computing first down success rates"
   ]
  },
  {
   "cell_type": "code",
   "execution_count": 116,
   "metadata": {
    "collapsed": true
   },
   "outputs": [],
   "source": [
    "df_plays = joined.loc[joined['type'].isin(['PASS', 'RUSH']), :].copy()"
   ]
  },
  {
   "cell_type": "markdown",
   "metadata": {},
   "source": [
    "## Compute First Down Rates\n",
    "Find the mean 1st down success rate at a given point in the field.\n",
    "\n",
    "#### Parameters\n",
    "----------\n",
    "df_plays : DataFrame\n",
    "yfog     : str, must be 'yfog' or 'yfog_bin'\n",
    "           If yfog, use the actual yards from own goal\n",
    "           If yfog_bin, use the decile of the field instead."
   ]
  },
  {
   "cell_type": "markdown",
   "metadata": {},
   "source": [
    "## Yfog bin for Open Field (< 90)"
   ]
  },
  {
   "cell_type": "code",
   "execution_count": 117,
   "metadata": {
    "collapsed": true
   },
   "outputs": [],
   "source": [
    "# Break the field into deciles\n",
    "downs = df_plays.copy()\n",
    "downs['yfog_bin'] = downs.yfog // 10\n",
    "downs = downs.loc[downs.yfog_bin < 90].copy()\n",
    "   \n",
    "# For each segment, find the average first down rate by dwn & ytg\n",
    "grouped = (downs.groupby(['yfog_bin', 'dwn', 'ytg'])['first_down']\n",
    "                .agg({'fdr': np.mean, 'N': len})\n",
    "                .reset_index())\n",
    "\n",
    "# Just keep 3rd & 4th downs\n",
    "grouped = grouped.loc[grouped.dwn >= 3].copy()\n",
    "merged = grouped.merge(grouped, on=['yfog_bin', 'ytg'], how='left')\n",
    "\n",
    "# Note this will lose scenarios that have *only* ever seen a 4th down\n",
    "# This matches to one play since 2001.\n",
    "merged = merged.loc[(merged.dwn_x == 4) & (merged.dwn_y == 3)].copy()\n",
    "\n",
    "# Compute a weighted mean of FDR on 3rd & 4th down to deal with sparsity\n",
    "merged['weighted_N_x'] = (merged.fdr_x * merged.N_x)\n",
    "merged['weighted_N_y'] = (merged.fdr_y * merged.N_y)\n",
    "merged['weighted_total'] = (merged.weighted_N_x + merged.weighted_N_y)\n",
    "merged['total_N'] = (merged.N_x + merged.N_y)\n",
    "merged['weighted_fdr'] = (merged.weighted_total / merged.total_N)\n",
    "merged = merged.drop(labels=['weighted_N_x', 'weighted_N_y',\n",
    "                             'weighted_total', 'total_N'], axis='columns')\n",
    "merged = merged.rename(columns={'dwn_x': 'dwn'})\n",
    "\n",
    "# Need to fill in any missing combinations where possible\n",
    "merged = merged.set_index(['yfog_bin', 'dwn', 'ytg'])\n",
    "p = pd.MultiIndex.from_product(merged.index.levels,\n",
    "                               names=merged.index.names)\n",
    "merged = merged.reindex(p, fill_value=None).reset_index()\n",
    "merged = merged.rename(columns={'weighted_fdr': 'fdr'})\n",
    "\n",
    "# Eliminate impossible combinations\n",
    "# Sparse situations, just set to p(success) = 0.1\n",
    "merged.loc[merged.ytg > 13, 'fdr'] = 0.10\n",
    "\n",
    "# Missing values inside -10 because no one goes for it here\n",
    "merged.loc[(merged.fdr_x.isnull()) & (merged.ytg <= 3),\n",
    "           'fdr'] = .2\n",
    "merged.loc[(merged.fdr_x.isnull()) & (merged.ytg > 3),\n",
    "           'fdr'] = .1\n",
    "\n",
    "# Fill in missing values\n",
    "merged['fdr'] = merged['fdr'].interpolate()\n",
    "fd_open_field = merged.copy()\n",
    "fd_open_field.to_csv('data/fd_open_field.csv', index=False)"
   ]
  },
  {
   "cell_type": "code",
   "execution_count": 118,
   "metadata": {},
   "outputs": [
    {
     "data": {
      "text/plain": [
       "<matplotlib.axes._subplots.AxesSubplot at 0x3aa4a438>"
      ]
     },
     "execution_count": 118,
     "metadata": {},
     "output_type": "execute_result"
    },
    {
     "data": {
      "image/png": "[encoded data removed]",
      "text/plain": [
       "<matplotlib.figure.Figure at 0x3aa77c18>"
      ]
     },
     "metadata": {},
     "output_type": "display_data"
    }
   ],
   "source": [
    "fd_open_field[(fd_open_field['dwn']==4.0)&\n",
    "             (fd_open_field['ytg']==5.0)][['yfog_bin','fdr']].plot(kind='scatter', x='yfog_bin', y='fdr')"
   ]
  },
  {
   "cell_type": "markdown",
   "metadata": {},
   "source": [
    "## Yfog for inside 10 yard line"
   ]
  },
  {
   "cell_type": "code",
   "execution_count": 119,
   "metadata": {
    "collapsed": true
   },
   "outputs": [],
   "source": [
    "#fd_inside_10 = first_down_rates(df_plays, 'yfog')\n",
    "# For each segment, find the average first down rate by dwn & ytg\n",
    "downs = df_plays.copy()\n",
    "downs = downs.loc[downs.yfog >= 90].copy()\n",
    "grouped = (downs.groupby(['yfog', 'dwn', 'ytg'])['first_down']\n",
    "                .agg({'fdr': np.mean, 'N': len})\n",
    "                .reset_index())\n",
    "\n",
    "# Just keep 3rd & 4th downs\n",
    "grouped = grouped.loc[grouped.dwn >= 3].copy()\n",
    "merged = grouped.merge(grouped, on=['yfog', 'ytg'], how='left')\n",
    "\n",
    "# Note this will lose scenarios that have *only* ever seen a 4th down\n",
    "# This matches to one play since 2001.\n",
    "merged = merged.loc[(merged.dwn_x == 4) & (merged.dwn_y == 3)].copy()\n",
    "\n",
    "# Compute a weighted mean of FDR on 3rd & 4th down to deal with sparsity\n",
    "merged['weighted_N_x'] = (merged.fdr_x * merged.N_x)\n",
    "merged['weighted_N_y'] = (merged.fdr_y * merged.N_y)\n",
    "merged['weighted_total'] = (merged.weighted_N_x + merged.weighted_N_y)\n",
    "merged['total_N'] = (merged.N_x + merged.N_y)\n",
    "merged['weighted_fdr'] = (merged.weighted_total / merged.total_N)\n",
    "merged = merged.drop(labels=['weighted_N_x', 'weighted_N_y',\n",
    "                             'weighted_total', 'total_N'], axis='columns')\n",
    "merged = merged.rename(columns={'dwn_x': 'dwn'})\n",
    "\n",
    "# Need to fill in any missing combinations where possible\n",
    "merged = merged.set_index(['yfog', 'dwn', 'ytg'])\n",
    "p = pd.MultiIndex.from_product(merged.index.levels,\n",
    "                               names=merged.index.names)\n",
    "merged = merged.reindex(p, fill_value=None).reset_index()\n",
    "merged = merged.rename(columns={'weighted_fdr': 'fdr'})\n",
    "\n",
    "merged = merged.loc[(merged.yfog + merged.ytg <= 100)]\n",
    "merged.loc[(merged.yfog == 99) & (merged.ytg == 1), 'fdr'] = (\n",
    "        merged.loc[(merged.yfog == 99) & (merged.ytg == 1), 'fdr_x'])\n",
    "merged['fdr'] = merged['fdr'].interpolate()\n",
    "merged.to_csv('data/fd_inside_10.csv', index=False)\n",
    "\n",
    "fd_inside_10 = merged.copy()"
   ]
  },
  {
   "cell_type": "code",
   "execution_count": 120,
   "metadata": {
    "scrolled": true
   },
   "outputs": [
    {
     "data": {
      "text/html": [
       "<div>\n",
       "<table border=\"1\" class=\"dataframe\">\n",
       "  <thead>\n",
       "    <tr style=\"text-align: right;\">\n",
       "      <th></th>\n",
       "      <th>yfog</th>\n",
       "      <th>dwn</th>\n",
       "      <th>ytg</th>\n",
       "      <th>fdr_x</th>\n",
       "      <th>N_x</th>\n",
       "      <th>dwn_y</th>\n",
       "      <th>fdr_y</th>\n",
       "      <th>N_y</th>\n",
       "      <th>fdr</th>\n",
       "    </tr>\n",
       "  </thead>\n",
       "  <tbody>\n",
       "    <tr>\n",
       "      <th>0</th>\n",
       "      <td>90.0</td>\n",
       "      <td>4.0</td>\n",
       "      <td>1.0</td>\n",
       "      <td>0.882353</td>\n",
       "      <td>34.0</td>\n",
       "      <td>3.0</td>\n",
       "      <td>0.659341</td>\n",
       "      <td>91.0</td>\n",
       "      <td>0.720000</td>\n",
       "    </tr>\n",
       "    <tr>\n",
       "      <th>1</th>\n",
       "      <td>90.0</td>\n",
       "      <td>4.0</td>\n",
       "      <td>2.0</td>\n",
       "      <td>0.500000</td>\n",
       "      <td>6.0</td>\n",
       "      <td>3.0</td>\n",
       "      <td>0.521739</td>\n",
       "      <td>69.0</td>\n",
       "      <td>0.520000</td>\n",
       "    </tr>\n",
       "    <tr>\n",
       "      <th>2</th>\n",
       "      <td>90.0</td>\n",
       "      <td>4.0</td>\n",
       "      <td>3.0</td>\n",
       "      <td>0.625000</td>\n",
       "      <td>8.0</td>\n",
       "      <td>3.0</td>\n",
       "      <td>0.422535</td>\n",
       "      <td>71.0</td>\n",
       "      <td>0.443038</td>\n",
       "    </tr>\n",
       "    <tr>\n",
       "      <th>3</th>\n",
       "      <td>90.0</td>\n",
       "      <td>4.0</td>\n",
       "      <td>4.0</td>\n",
       "      <td>0.166667</td>\n",
       "      <td>6.0</td>\n",
       "      <td>3.0</td>\n",
       "      <td>0.343284</td>\n",
       "      <td>67.0</td>\n",
       "      <td>0.328767</td>\n",
       "    </tr>\n",
       "    <tr>\n",
       "      <th>4</th>\n",
       "      <td>90.0</td>\n",
       "      <td>4.0</td>\n",
       "      <td>5.0</td>\n",
       "      <td>0.600000</td>\n",
       "      <td>5.0</td>\n",
       "      <td>3.0</td>\n",
       "      <td>0.413333</td>\n",
       "      <td>75.0</td>\n",
       "      <td>0.425000</td>\n",
       "    </tr>\n",
       "  </tbody>\n",
       "</table>\n",
       "</div>"
      ],
      "text/plain": [
       "   yfog  dwn  ytg     fdr_x   N_x  dwn_y     fdr_y   N_y       fdr\n",
       "0  90.0  4.0  1.0  0.882353  34.0    3.0  0.659341  91.0  0.720000\n",
       "1  90.0  4.0  2.0  0.500000   6.0    3.0  0.521739  69.0  0.520000\n",
       "2  90.0  4.0  3.0  0.625000   8.0    3.0  0.422535  71.0  0.443038\n",
       "3  90.0  4.0  4.0  0.166667   6.0    3.0  0.343284  67.0  0.328767\n",
       "4  90.0  4.0  5.0  0.600000   5.0    3.0  0.413333  75.0  0.425000"
      ]
     },
     "execution_count": 120,
     "metadata": {},
     "output_type": "execute_result"
    }
   ],
   "source": [
    "fd_inside_10.head()"
   ]
  },
  {
   "cell_type": "markdown",
   "metadata": {},
   "source": [
    "## Join first down rates\n",
    "Join the computed first down rates with the play by play data."
   ]
  },
  {
   "cell_type": "code",
   "execution_count": 121,
   "metadata": {
    "collapsed": true
   },
   "outputs": [],
   "source": [
    "joined = join_df_first_down_rates(joined, fd_open_field, fd_inside_10)"
   ]
  },
  {
   "cell_type": "markdown",
   "metadata": {},
   "source": [
    "## Calculate final drive statistics\n",
    "Determine the starting point for the final possession in each\n",
    "non-overtime, regular season game to use as a proxy for the probability\n",
    "that the team will have another possession in the game during the\n",
    "4th quarter.\n",
    "\n",
    "Used to weight the win probabilities in the 4th quarter."
   ]
  },
  {
   "cell_type": "code",
   "execution_count": 122,
   "metadata": {},
   "outputs": [
    {
     "name": "stdout",
     "output_type": "stream",
     "text": [
      "Calculating final drive statistics.\n"
     ]
    }
   ],
   "source": [
    "print('Calculating final drive statistics.')\n",
    "\n",
    "drives = pd.read_csv( '{}/DRIVE.csv'.format('csv'), index_col=1)\n",
    "drives = drives.merge(games[['seas', 'wk']],\n",
    "                      left_index=True, right_index=True)\n",
    "\n",
    "# Restrict to non-overtime games\n",
    "\n",
    "final_qtr = drives.reset_index().groupby('gid')[['qtr']].max()\n",
    "overtime_games = final_qtr[final_qtr.qtr > 4].index\n",
    "drives_reduced = drives[-drives.index.isin(overtime_games)].copy()\n",
    "\n",
    "# Starting time of final drive of game\n",
    "\n",
    "drives_reduced = drives_reduced.loc[drives_reduced.qtr == 4]\n",
    "final_drive = drives_reduced.reset_index().groupby('gid').last()\n",
    "final_drive['secs'] = (final_drive['min'] * 60) + final_drive.sec\n",
    "\n",
    "# Group and get summary statistics\n",
    "final_drives = (final_drive.groupby('secs')['fpid']\n",
    "                           .agg({'n': len})\n",
    "                           .reset_index())\n",
    "\n",
    "final_drives['pct'] = final_drives.n / final_drives.n.sum()\n",
    "final_drives['cum_pct'] = final_drives.pct.cumsum()\n",
    "\n",
    "final_drives.to_csv('data/final_drives.csv')"
   ]
  },
  {
   "cell_type": "markdown",
   "metadata": {},
   "source": [
    "## Write cleaned data to file"
   ]
  },
  {
   "cell_type": "code",
   "execution_count": 123,
   "metadata": {},
   "outputs": [
    {
     "name": "stdout",
     "output_type": "stream",
     "text": [
      "Writing cleaned play-by-play data.\n"
     ]
    }
   ],
   "source": [
    "print('Writing cleaned play-by-play data.')\n",
    "joined.to_csv('data/pbp_cleaned.csv')"
   ]
  },
  {
   "cell_type": "markdown",
   "metadata": {},
   "source": [
    "## Only train on actual plays, remove 2pt conversion attempts"
   ]
  },
  {
   "cell_type": "code",
   "execution_count": 124,
   "metadata": {},
   "outputs": [
    {
     "name": "stdout",
     "output_type": "stream",
     "text": [
      "Reading play by play data.\n"
     ]
    }
   ],
   "source": [
    "print('Reading play by play data.')\n",
    "df = pd.read_csv('data/pbp_cleaned.csv', index_col=0)\n",
    "df_plays = df.loc[(df['type'] != 'CONV')].copy()"
   ]
  },
  {
   "cell_type": "markdown",
   "metadata": {},
   "source": [
    "# Custom features\n",
    "## Interaction between qtr & score difference -- late score differences are more important than early ones."
   ]
  },
  {
   "cell_type": "code",
   "execution_count": 125,
   "metadata": {
    "collapsed": true
   },
   "outputs": [],
   "source": [
    "df_plays['qtr_scorediff'] = df_plays.qtr * df_plays.score_diff"
   ]
  },
  {
   "cell_type": "markdown",
   "metadata": {},
   "source": [
    "## Decay effect of spread over course of game"
   ]
  },
  {
   "cell_type": "code",
   "execution_count": 126,
   "metadata": {
    "collapsed": true
   },
   "outputs": [],
   "source": [
    "df_plays['spread'] = df_plays.spread * (df_plays.secs_left / 3600)"
   ]
  },
  {
   "cell_type": "markdown",
   "metadata": {},
   "source": [
    "## Features to use in the model"
   ]
  },
  {
   "cell_type": "code",
   "execution_count": 127,
   "metadata": {
    "collapsed": true
   },
   "outputs": [],
   "source": [
    "features = ['dwn', 'yfog', 'secs_left',\n",
    "            'score_diff', 'timo', 'timd', 'spread',\n",
    "            'kneel_down', 'qtr',\n",
    "            'qtr_scorediff']\n",
    "target = 'win'"
   ]
  },
  {
   "cell_type": "markdown",
   "metadata": {},
   "source": [
    "## Splitting data into train/test sets."
   ]
  },
  {
   "cell_type": "code",
   "execution_count": 128,
   "metadata": {},
   "outputs": [
    {
     "name": "stdout",
     "output_type": "stream",
     "text": [
      "Splitting data into train/test sets.\n"
     ]
    }
   ],
   "source": [
    "print('Splitting data into train/test sets.')\n",
    "(train_X, test_X, train_y, test_y) = train_test_split(df_plays[features],\n",
    "                                                  df_plays[target],\n",
    "                                                  test_size=0.1)"
   ]
  },
  {
   "cell_type": "markdown",
   "metadata": {},
   "source": [
    "## Scaling features"
   ]
  },
  {
   "cell_type": "code",
   "execution_count": 129,
   "metadata": {},
   "outputs": [
    {
     "name": "stdout",
     "output_type": "stream",
     "text": [
      "Scaling features.\n"
     ]
    }
   ],
   "source": [
    "print('Scaling features.')\n",
    "scaler = StandardScaler()\n",
    "scaler.fit(train_X)\n",
    "train_X_scaled = scaler.transform(train_X)"
   ]
  },
  {
   "cell_type": "markdown",
   "metadata": {},
   "source": [
    "## Training model"
   ]
  },
  {
   "cell_type": "code",
   "execution_count": 130,
   "metadata": {},
   "outputs": [
    {
     "name": "stdout",
     "output_type": "stream",
     "text": [
      "Training model.\n"
     ]
    },
    {
     "data": {
      "text/plain": [
       "LogisticRegression(C=1.0, class_weight=None, dual=False, fit_intercept=True,\n",
       "          intercept_scaling=1, penalty='l2', random_state=None, tol=0.0001)"
      ]
     },
     "execution_count": 130,
     "metadata": {},
     "output_type": "execute_result"
    }
   ],
   "source": [
    "print('Training model.')\n",
    "logit = LogisticRegression()\n",
    "logit.fit(train_X_scaled, train_y)"
   ]
  },
  {
   "cell_type": "markdown",
   "metadata": {},
   "source": [
    "## Making predictions on test set"
   ]
  },
  {
   "cell_type": "code",
   "execution_count": 131,
   "metadata": {},
   "outputs": [
    {
     "name": "stdout",
     "output_type": "stream",
     "text": [
      "Making predictions on test set.\n"
     ]
    }
   ],
   "source": [
    "print('Making predictions on test set.')\n",
    "test_X_scaled = scaler.transform(test_X)\n",
    "preds = logit.predict_proba(test_X_scaled)[:, 1]"
   ]
  },
  {
   "cell_type": "markdown",
   "metadata": {},
   "source": [
    "## Evaluating model performance"
   ]
  },
  {
   "cell_type": "code",
   "execution_count": 132,
   "metadata": {
    "scrolled": true
   },
   "outputs": [
    {
     "name": "stdout",
     "output_type": "stream",
     "text": [
      "Evaluating model performance.\n",
      "AUC: 0.862048348699\n",
      "Log loss: 0.456478047836\n",
      "             precision    recall  f1-score   support\n",
      "\n",
      "          0       0.77      0.77      0.77     27776\n",
      "          1       0.78      0.77      0.78     28327\n",
      "\n",
      "avg / total       0.77      0.77      0.77     56103\n",
      "\n",
      "F1 score: 0.77524372335\n"
     ]
    }
   ],
   "source": [
    "print('Evaluating model performance.')\n",
    "fpr, tpr, thresholds = roc_curve(test_y, preds)\n",
    "roc_auc = auc(fpr, tpr)\n",
    "print('AUC: {}'.format(roc_auc))\n",
    "print('Log loss: {}'.format(log_loss(test_y, preds)))\n",
    "pred_outcomes = logit.predict(test_X_scaled)\n",
    "print(classification_report(test_y, pred_outcomes))\n",
    "print('F1 score: {}'.format(f1_score(test_y, pred_outcomes)))"
   ]
  },
  {
   "cell_type": "markdown",
   "metadata": {},
   "source": [
    "## Plot ROC Curve and Calibration Plot"
   ]
  },
  {
   "cell_type": "code",
   "execution_count": 133,
   "metadata": {
    "collapsed": true
   },
   "outputs": [],
   "source": [
    "def calibration_plot(preds, truth):\n",
    "    \"\"\"Produces a calibration plot for the win probability model.\n",
    "\n",
    "    Splits the predictions into percentiles and calculates the\n",
    "    percentage of predictions per percentile that were wins. A perfectly\n",
    "    calibrated model means that plays with a win probability of n%\n",
    "    win about n% of the time.\n",
    "    \"\"\"\n",
    "    cal_df = pd.DataFrame({'pred': preds, 'win': truth})\n",
    "    cal_df['pred_bin'] = pd.cut(cal_df.pred, 100, labels=False)\n",
    "\n",
    "    win_means = cal_df.groupby('pred_bin')['win'].mean()\n",
    "\n",
    "    plt.figure()\n",
    "    plt.plot(win_means.index.values,\n",
    "             [100 * v for v in win_means.values], color='SteelBlue')\n",
    "    plt.plot(np.arange(0, 100), np.arange(0, 100), 'k--', alpha=0.3)\n",
    "    plt.xlim([0.0, 100])\n",
    "    plt.ylim([0.0, 100])\n",
    "    plt.xlabel('Estimated win probability')\n",
    "    plt.ylabel('True win percentage')\n",
    "    plt.title('Win probability calibration, binned by percent')\n",
    "\n",
    "    return"
   ]
  },
  {
   "cell_type": "code",
   "execution_count": 134,
   "metadata": {
    "collapsed": true
   },
   "outputs": [],
   "source": [
    "def plot_roc(fpr, tpr, roc_auc):\n",
    "    \"\"\"Plots the ROC curve for the win probability model along with\n",
    "    the AUC.\n",
    "    \"\"\"\n",
    "    fig, ax = plt.subplots()\n",
    "    ax.set(title='Receiver Operating Characteristic',\n",
    "           xlim=[0, 1], ylim=[0, 1], xlabel='False Positive Rate',\n",
    "           ylabel='True Positive Rate')\n",
    "    ax.plot(fpr, tpr, 'b', label='AUC = %0.2f' % roc_auc)\n",
    "    ax.plot([0, 1], [0, 1], 'k--')\n",
    "    ax.legend(loc='lower right')"
   ]
  },
  {
   "cell_type": "code",
   "execution_count": 135,
   "metadata": {},
   "outputs": [
    {
     "name": "stdout",
     "output_type": "stream",
     "text": [
      "Plotting ROC curve and calibration plot.\n",
      "Note: plots may appear behind current active window.\n"
     ]
    },
    {
     "data": {
      "image/png": "[encoded data removed]",
      "text/plain": [
       "<matplotlib.figure.Figure at 0xa7aa630>"
      ]
     },
     "metadata": {},
     "output_type": "display_data"
    },
    {
     "data": {
      "image/png": "[encoded data removed]",
      "text/plain": [
       "<matplotlib.figure.Figure at 0x12d1bb00>"
      ]
     },
     "metadata": {},
     "output_type": "display_data"
    }
   ],
   "source": [
    "print('Plotting ROC curve and calibration plot.')\n",
    "print('Note: plots may appear behind current active window.')\n",
    "plot_roc(fpr, tpr, roc_auc)\n",
    "calibration_plot(preds, test_y)"
   ]
  },
  {
   "cell_type": "markdown",
   "metadata": {},
   "source": [
    "## Pickling (save) model and scaler"
   ]
  },
  {
   "cell_type": "code",
   "execution_count": 136,
   "metadata": {},
   "outputs": [
    {
     "name": "stdout",
     "output_type": "stream",
     "text": [
      "Pickling model and scaler.\n"
     ]
    },
    {
     "data": {
      "text/plain": [
       "['models/scaler.pkl', 'models/scaler.pkl_01.npy', 'models/scaler.pkl_02.npy']"
      ]
     },
     "execution_count": 136,
     "metadata": {},
     "output_type": "execute_result"
    }
   ],
   "source": [
    "print('Pickling model and scaler.')\n",
    "if not os.path.exists('models'):\n",
    "    os.mkdir('models')\n",
    "    \n",
    "joblib.dump(logit, 'models/win_probability.pkl')\n",
    "joblib.dump(scaler, 'models/scaler.pkl')"
   ]
  },
  {
   "cell_type": "code",
   "execution_count": 137,
   "metadata": {
    "collapsed": true
   },
   "outputs": [],
   "source": [
    "def load_data():\n",
    "    data = {}\n",
    "    data['fgs'] = pd.read_csv('data/fgs_grouped.csv')\n",
    "    data['punts'] = pd.read_csv('data/punts_grouped.csv')\n",
    "    data['fd_open_field'] = pd.read_csv('data/fd_open_field.csv')\n",
    "    data['fd_inside_10'] = pd.read_csv('data/fd_inside_10.csv')\n",
    "    data['final_drives'] = pd.read_csv('data/final_drives.csv')\n",
    "    data['decisions'] = pd.read_csv('data/coaches_decisions.csv')\n",
    "    data['scaler'] = joblib.load('models/scaler.pkl')\n",
    "    data['features'] = ['dwn', 'yfog', 'secs_left',\n",
    "                        'score_diff', 'timo', 'timd', 'spread',\n",
    "                        'kneel_down', 'qtr', 'qtr_scorediff']\n",
    "\n",
    "    model = joblib.load('models/win_probability.pkl')\n",
    "    return data, model"
   ]
  },
  {
   "cell_type": "code",
   "execution_count": 138,
   "metadata": {
    "collapsed": true
   },
   "outputs": [],
   "source": [
    "def kneel_down(score_diff, timd, secs_left, dwn):\n",
    "    \"\"\"Return 1 if the offense can definitely kneel out the game,\n",
    "    else return 0.\"\"\"\n",
    "\n",
    "    if score_diff <= 0 or dwn == 4:\n",
    "        return 0\n",
    "\n",
    "    if timd == 0 and secs_left <= 120 and dwn == 1:\n",
    "        return 1\n",
    "    if timd == 1 and secs_left <= 87 and dwn == 1:\n",
    "        return 1\n",
    "    if timd == 2 and secs_left <= 48 and dwn == 1:\n",
    "        return 1\n",
    "\n",
    "    if timd == 0 and secs_left <= 84 and dwn == 2:\n",
    "        return 1\n",
    "    if timd == 1 and secs_left <= 45 and dwn == 2:\n",
    "        return 1\n",
    "\n",
    "    if timd == 0 and secs_left <= 42 and dwn == 3:\n",
    "        return 1\n",
    "\n",
    "    return 0\n",
    "\n",
    "def change_poss(situation, play_type, features, **kwargs):\n",
    "    \"\"\"Handles situation updating for all plays that involve\n",
    "    a change of possession, including punts, field goals,\n",
    "    missed field goals, touchdowns, turnover on downs.\n",
    "    Parameters\n",
    "    ----------\n",
    "    situation : OrderedDict\n",
    "    play_type : function\n",
    "    features  : list[str]\n",
    "    Returns\n",
    "    -------\n",
    "    new_situation : OrderedDict\n",
    "    \"\"\"\n",
    "\n",
    "    new_situation = OrderedDict.fromkeys(features)\n",
    "\n",
    "    # Nearly all changes of possession result in a 1st & 10\n",
    "    # Doesn't cover the edge case of a turnover within own 10 yardline.\n",
    "    new_situation['dwn'] = 1\n",
    "    new_situation['ytg'] = 10\n",
    "\n",
    "    # Assumes 10 seconds of game clock have elapsed per play\n",
    "    # Could tune this.\n",
    "    new_situation['secs_left'] = max([situation['secs_left'] - 10, 0])\n",
    "    new_situation['qtr'] = qtr(new_situation['secs_left'])\n",
    "\n",
    "    # Assign timeouts to the correct teams\n",
    "    new_situation['timo'], new_situation['timd'] = (\n",
    "            situation['timd'], situation['timo'])\n",
    "\n",
    "    # Valid types are turnover_downs, punt, field_goal,\n",
    "    # missed_field_goal, touchdown\n",
    "\n",
    "    # Any score changes are handled here\n",
    "    new_situation = play_type(situation, new_situation, **kwargs)\n",
    "\n",
    "    # Change sign on spread, recompute over-under\n",
    "    new_situation['spread'] = -1 * situation['spread'] + 0\n",
    "\n",
    "    # Avoid negative zeros\n",
    "    if new_situation.get('score_diff') is None:\n",
    "        new_situation['score_diff'] = int(-1 * situation['score_diff'])\n",
    "    else:\n",
    "        new_situation['score_diff'] = int(-1 * new_situation['score_diff'])\n",
    "\n",
    "    new_situation['kneel_down'] = kneel_down(new_situation['score_diff'],\n",
    "                                             new_situation['timd'],\n",
    "                                             new_situation['secs_left'],\n",
    "                                             new_situation['dwn'])\n",
    "\n",
    "    new_situation['qtr_scorediff'] = (\n",
    "            new_situation['qtr'] * new_situation['score_diff'])\n",
    "\n",
    "    return new_situation\n",
    "\n",
    "\n",
    "def field_goal(situation, new_situation, **kwargs):\n",
    "    new_situation['score_diff'] = situation['score_diff'] + 3\n",
    "\n",
    "    # Assume the starting field position will be own 25, accounts\n",
    "    # for touchbacks and some run backs.\n",
    "\n",
    "    new_situation['yfog'] = 25\n",
    "\n",
    "    return new_situation\n",
    "\n",
    "\n",
    "def missed_field_goal(situation, new_situation, **kwargs):\n",
    "    \"\"\"Opponent takes over from the spot of the kick.\"\"\"\n",
    "    new_situation['yfog'] = 100 - (situation['yfog'] - 8)\n",
    "    return new_situation\n",
    "\n",
    "\n",
    "def touchdown(situation, new_situation, **kwargs):\n",
    "    \"\"\"Assumes successful XP and no 2PC -- revisit this for 2015?\"\"\"\n",
    "    new_situation['score_diff'] = situation['score_diff'] + 7\n",
    "    new_situation['yfog'] = 25\n",
    "    return new_situation\n",
    "\n",
    "\n",
    "def turnover_downs(situation, new_situation, **kwargs):\n",
    "    new_situation['yfog'] = 100 - situation['yfog']\n",
    "    return new_situation\n",
    "\n",
    "\n",
    "def punt(situation, new_situation, **kwargs):\n",
    "    \"\"\"Use the average net punt distance (punt distance - return yards).\n",
    "    Not all situations have historical data, especially very\n",
    "    close to opponent's end zone. Use a net punt distance of\n",
    "    5 yards here.\n",
    "    \"\"\"\n",
    "\n",
    "    default_punt = 5\n",
    "\n",
    "    try:\n",
    "        pnet = kwargs['data'].loc[kwargs['data'].yfog == situation['yfog'],\n",
    "                                  'pnet'].values[0]\n",
    "\n",
    "    except IndexError:\n",
    "        pnet = default_punt\n",
    "\n",
    "    new_yfog = np.floor(100 - (situation['yfog'] + pnet))\n",
    "\n",
    "    # Touchback\n",
    "    new_situation['yfog'] = new_yfog if new_yfog > 0 else 25\n",
    "\n",
    "    return new_situation\n",
    "\n",
    "\n",
    "def first_down(situation):\n",
    "    new_situation = OrderedDict()\n",
    "    new_situation['dwn'] = 1\n",
    "\n",
    "    yfog = situation['yfog'] + situation['ytg']\n",
    "    new_situation['ytg'] = min([10, yfog])\n",
    "    new_situation['yfog'] = yfog\n",
    "\n",
    "    # 10 seconds of clock time elapsed, or game over.\n",
    "    new_situation['secs_left'] = max([situation['secs_left'] - 10, 0])\n",
    "\n",
    "    # These values don't change\n",
    "    new_situation['score_diff'] = situation['score_diff']\n",
    "    new_situation['timo'], new_situation['timd'] = (\n",
    "            situation['timo'], situation['timd'])\n",
    "    new_situation['spread'] = situation['spread']\n",
    "\n",
    "    new_situation['kneel_down'] = kneel_down(new_situation['score_diff'],\n",
    "                                             new_situation['timd'],\n",
    "                                             new_situation['secs_left'],\n",
    "                                             new_situation['dwn'])\n",
    "\n",
    "    new_situation['qtr'] = qtr(new_situation['secs_left'])\n",
    "    new_situation['qtr_scorediff'] = (\n",
    "            new_situation['qtr'] * new_situation['score_diff'])\n",
    "\n",
    "    return new_situation\n",
    "\n",
    "\n",
    "def qtr(secs_left):\n",
    "    if secs_left <= 900:\n",
    "        return 4\n",
    "    if secs_left <= 1800:\n",
    "        return 3\n",
    "    if secs_left <= 2700:\n",
    "        return 2\n",
    "    return 1\n",
    "\n",
    "def generate_response(situation, data, model):\n",
    "    \"\"\"Parent function called by the bot to make decisions on 4th downs.\n",
    "\n",
    "    Parameters\n",
    "    ----------\n",
    "    situation : OrderedDict\n",
    "    data      : dict, contains historical data\n",
    "    model     : LogisticRegression\n",
    "\n",
    "    Returns\n",
    "    -------\n",
    "    payload   : dict\n",
    "    \"\"\"\n",
    "\n",
    "    situation = calculate_features(situation, data)\n",
    "\n",
    "    # Generate the game state of possible outcomes\n",
    "    scenarios = simulate_scenarios(situation, data)\n",
    "\n",
    "    # Calculate the win probability for each scenario\n",
    "    probs = generate_win_probabilities(situation, scenarios, model, data)\n",
    "\n",
    "    # Calculate breakeven points, make decision on optimal decision\n",
    "    decision, probs = generate_decision(situation, data, probs)\n",
    "\n",
    "    payload = {'decision': decision, 'probs': probs, 'situation': situation}\n",
    "\n",
    "    return payload\n",
    "\n",
    "\n",
    "def calculate_features(situation, data):\n",
    "    \"\"\"Generate features needed for the win probability model that are\n",
    "    not contained in the general game state information passed via API.\n",
    "\n",
    "    Parameters\n",
    "    ----------\n",
    "    situation : OrderedDict\n",
    "\n",
    "    Returns\n",
    "    -------\n",
    "    situation : The same OrderedDict, with new keys and values.\n",
    "    \"\"\"\n",
    "\n",
    "    situation['kneel_down'] = kneel_down(situation['score_diff'],\n",
    "                                           situation['timd'],\n",
    "                                           situation['secs_left'],\n",
    "                                           situation['dwn'])\n",
    "\n",
    "    situation['qtr'] = qtr(situation['secs_left'])\n",
    "    situation['qtr_scorediff'] = situation['qtr'] * situation['score_diff']\n",
    "\n",
    "    situation['spread'] = (\n",
    "            situation['spread'] * (situation['secs_left'] / 3600))\n",
    "\n",
    "    cum_pct = (\n",
    "        (situation['secs_left'] - data['final_drives'].secs).abs().argmin())\n",
    "\n",
    "    situation['poss_prob'] = data['final_drives'].ix[cum_pct].cum_pct\n",
    "\n",
    "    return situation\n",
    "\n",
    "\n",
    "def qtr(secs_left):\n",
    "    \"\"\"Given the seconds left in the game, determine the current quarter.\"\"\"\n",
    "    if secs_left <= 900:\n",
    "        return 4\n",
    "    if secs_left <= 1800:\n",
    "        return 3\n",
    "    if secs_left <= 2700:\n",
    "        return 2\n",
    "    return 1\n",
    "\n",
    "\n",
    "def simulate_scenarios(situation, data):\n",
    "    \"\"\"Simulate game state after each possible outcome.\n",
    "\n",
    "    Possible scenarios are: touchdown, first down, turnover on downs,\n",
    "    field goal attempt (success or failure), and punt.\n",
    "    \"\"\"\n",
    "\n",
    "    features = data['features']\n",
    "    scenarios = dict()\n",
    "\n",
    "    # If it's 4th & goal, success is a touchdown, otherwise a 1st down.\n",
    "\n",
    "    if situation['ytg'] + situation['yfog'] >= 100:\n",
    "        scenarios['touchdown'] = change_poss(situation, touchdown, features)\n",
    "    else:\n",
    "        scenarios['first_down'] = first_down(situation)\n",
    "\n",
    "    scenarios['fail'] = change_poss(situation, turnover_downs, features)\n",
    "\n",
    "    scenarios['punt'] = change_poss(situation, punt, features,\n",
    "                                      data=data['punts'])\n",
    "\n",
    "    scenarios['fg'] = change_poss(situation, field_goal, features)\n",
    "    scenarios['missed_fg'] = change_poss(situation, missed_field_goal,\n",
    "                                           features)\n",
    "\n",
    "    return scenarios\n",
    "\n",
    "\n",
    "def generate_win_probabilities(situation, scenarios, model, data, **kwargs):\n",
    "    \"\"\"For each of the possible scenarios, estimate the win probability\n",
    "    for that game state.\"\"\"\n",
    "\n",
    "    probs = dict.fromkeys([k + '_wp' for k in scenarios.keys()])\n",
    "\n",
    "    features = data['features']\n",
    "\n",
    "    # Pre-play win probability calculation\n",
    "    # Note there is more information in situation than just model features.\n",
    "\n",
    "    feature_vec = [val for key, val in situation.items() if key in features]\n",
    "    feature_vec = data['scaler'].transform(feature_vec)\n",
    "\n",
    "    probs['pre_play_wp'] = model.predict_proba(feature_vec)[0][1]\n",
    "\n",
    "    for scenario, outcome in scenarios.items():\n",
    "        feature_vec = [val for key, val in outcome.items() if key in features]\n",
    "        feature_vec = data['scaler'].transform(feature_vec)\n",
    "        pred_prob = model.predict_proba(feature_vec)[0][1]\n",
    "\n",
    "        # Change of possessions require 1 - WP\n",
    "        if scenario in ('fg', 'fail', 'punt', 'missed_fg', 'touchdown'):\n",
    "            pred_prob = 1 - pred_prob\n",
    "\n",
    "        probs[str(scenario + '_wp')] = pred_prob\n",
    "\n",
    "    # Account for situations in which an opponent's field goal can end\n",
    "    # the game, driving win probability down to 0.\n",
    "\n",
    "    if (situation['secs_left'] < 40 and (0 <= situation['score_diff'] <= 2)\n",
    "            and situation['timo'] == 0):\n",
    "        # Estimate probability of successful field goal and\n",
    "        # set the win probability of failing to convert a 4th down\n",
    "        # to that win probability.\n",
    "\n",
    "        if situation['dome'] > 0:\n",
    "            prob_opp_fg = (data['fgs'].loc[\n",
    "                    data['fgs'].yfog == scenarios['fail']['yfog'],\n",
    "                    'average'].values[0])\n",
    "        else:\n",
    "            prob_opp_fg = (data['fgs'].loc[\n",
    "                    data['fgs'].yfog == scenarios['fail']['yfog'],\n",
    "                    'average'].values[0])\n",
    "\n",
    "        probs['fail_wp'] = ((1 - prob_opp_fg) * probs['fail_wp'])\n",
    "\n",
    "    # Teams may not get the ball back during the 4th quarter\n",
    "\n",
    "    if situation['qtr'] == 4:\n",
    "        probs['fail_wp'] = probs['fail_wp'] * situation['poss_prob']\n",
    "        probs['punt_wp'] = probs['punt_wp'] * situation['poss_prob']\n",
    "\n",
    "    # Always have a 'success_wp' field, regardless of TD or 1st down\n",
    "\n",
    "    if 'touchdown_wp' in probs:\n",
    "        probs['success_wp'] = probs['touchdown_wp']\n",
    "    else:\n",
    "        probs['success_wp'] = probs['first_down_wp']\n",
    "    return probs\n",
    "\n",
    "\n",
    "def generate_decision(situation, data, probs, **kwargs):\n",
    "    \"\"\"Decide on optimal play based on game states and their associated\n",
    "    win probabilities. Note the currently 'best play' is based purely\n",
    "    on the outcome with the highest expected win probability. This\n",
    "    does not account for uncertainty of these estimates.\n",
    "\n",
    "    For example, the win probabilty added by a certain play may be\n",
    "    very small (0.0001), but that may be the 'best play.'\n",
    "    \"\"\"\n",
    "\n",
    "    decision = {}\n",
    "\n",
    "    decision['prob_success'] = calc_prob_success(situation, data)\n",
    "\n",
    "    # Expected value of win probability of going for it\n",
    "    wp_ev_goforit = expected_win_prob(decision['prob_success'],\n",
    "                                      probs['success_wp'],\n",
    "                                      probs['fail_wp'])\n",
    "    probs['wp_ev_goforit'] = wp_ev_goforit\n",
    "\n",
    "    # Expected value of kick factors in probability of FG\n",
    "    probs['prob_success_fg'], probs['fg_ev_wp'] = expected_wp_fg(\n",
    "            situation, probs, data)\n",
    "\n",
    "    # If the offense can end the game with a field goal, set the\n",
    "    # expected win probability for a field goal attempt to the\n",
    "    # probability of a successful field goal kick.\n",
    "\n",
    "    if (situation['secs_left'] < 40 and (-2 <= situation['score_diff'] <= 0)\n",
    "        and situation['timd'] == 0):\n",
    "            probs['fg_wp'] = probs['prob_success_fg']\n",
    "            probs['fg_ev_wp'] = probs['prob_success_fg']\n",
    "\n",
    "    # If down by more than a field goal in the 4th quarter, need to\n",
    "    # incorporate the probability that you will get the ball back.\n",
    "\n",
    "    if situation['qtr'] == 4 and situation['score_diff'] < -3:\n",
    "        probs['fg_ev_wp'] = probs['fg_ev_wp'] * situation['poss_prob']\n",
    "\n",
    "    # Breakeven success probabilities\n",
    "    decision['breakeven_punt'], decision['breakeven_fg'] = breakeven(probs)\n",
    "\n",
    "    # Of the kicking options, pick the one with the highest E(WP)\n",
    "    decision['kicking_option'], decision['wpa_going_for_it'] = (\n",
    "            best_kicking_option(probs, wp_ev_goforit))\n",
    "\n",
    "    # Make the final call on kick / punt / go for it\n",
    "    # If a win is unlikely in any circumstance, favor going for it.\n",
    "\n",
    "    # if probs['pre_play_wp'] < .05:\n",
    "    #     decision['best_play'] = 'go for it'\n",
    "    # else:\n",
    "    decision['best_play'] = decide_best_play(decision)\n",
    "\n",
    "    # Only provide historical data outside of two-minute warning\n",
    "    decision = get_historical_decision(situation, data, decision)\n",
    "\n",
    "    return decision, probs\n",
    "\n",
    "\n",
    "def get_historical_decision(situation, data, decision):\n",
    "    \"\"\"Compare current game situation to historically similar situations.\n",
    "\n",
    "    Currently uses score difference and field position to provide\n",
    "    rough guides to what coaches have done in the past.\n",
    "    \"\"\"\n",
    "\n",
    "    historical_data = data['decisions']\n",
    "\n",
    "    down_by_td = situation['score_diff'] <= -4\n",
    "    up_by_td = situation['score_diff'] >= 4\n",
    "    yfog_bin = situation['yfog'] // 20\n",
    "    short_tg = int(situation['ytg'] <= 3)\n",
    "    med_tg = int((situation['ytg'] >= 4) and (situation['ytg'] <= 7))\n",
    "    long_tg = int(situation['ytg'] > 7)\n",
    "\n",
    "    history = historical_data.loc[(historical_data.down_by_td == down_by_td) &\n",
    "                                  (historical_data.up_by_td == up_by_td) &\n",
    "                                  (historical_data.yfog_bin == yfog_bin) &\n",
    "                                  (historical_data.short == short_tg) &\n",
    "                                  (historical_data.med == med_tg) &\n",
    "                                  (historical_data['long'] == long_tg)]\n",
    "\n",
    "    # Check to see if no similar situations\n",
    "    if historical_data.shape[0] == 0:\n",
    "        decision['historical_goforit_pct'] = 'None'\n",
    "        decision['historical_punt_pct'] = 'None'\n",
    "        decision['historical_kick_pct'] = 'None'\n",
    "        decision['historical_N'] = 'None'\n",
    "    else:\n",
    "        decision['historical_punt_pct'] = (history.proportion_punted.values[0])\n",
    "        decision['historical_kick_pct'] = (history.proportion_kicked.values[0])\n",
    "        decision['historical_goforit_pct'] = (history.proportion_went.values[0])\n",
    "        decision['historical_goforit_N'] = (history.sample_size.values[0])\n",
    "    return decision\n",
    "\n",
    "\n",
    "def expected_win_prob(pos_prob, pos_win_prob, neg_win_prob):\n",
    "    \"\"\"Expected value of win probability, factoring in p(success).\"\"\"\n",
    "    return (pos_prob * pos_win_prob) + ((1 - pos_prob) * neg_win_prob)\n",
    "\n",
    "\n",
    "def expected_wp_fg(situation, probs, data):\n",
    "    \"\"\"Expected WP from kicking, factoring in p(FG made).\"\"\"\n",
    "    if 'fg_make_prob' in situation and isinstance(situation['fg_make_prob'], float):\n",
    "        pos = situation['fg_make_prob']\n",
    "    else:\n",
    "        fgs = data['fgs']\n",
    "\n",
    "        # Set the probability of success of implausibly long kicks to 0.\n",
    "        if situation['yfog'] < 42:\n",
    "            pos = 0\n",
    "        else:\n",
    "            # Account for indoor vs. outdoor kicking\n",
    "            if situation['dome'] > 0:\n",
    "                pos = fgs.loc[fgs.yfog == situation['yfog'], 'average'].values[0]\n",
    "            else:\n",
    "                pos = fgs.loc[fgs.yfog == situation['yfog'], 'average'].values[0]\n",
    "\n",
    "    return pos, expected_win_prob(pos, probs['fg_wp'], probs['missed_fg_wp'])\n",
    "    return pos, expected_win_prob(pos, probs['fg_wp'], probs['missed_fg_wp'])\n",
    "\n",
    "\n",
    "def breakeven(probs):\n",
    "    \"\"\"Calculates the breakeven point for making the decision.\n",
    "\n",
    "    The breakeven is the point at which a coach should be indifferent\n",
    "    between two options. We compare the expected win probability\n",
    "    of going for it on 4th down to the next best kicking option\n",
    "    and determine what the probability of converting the 4th down\n",
    "    needs to be in order to make the coach indifferent to going for it\n",
    "    or kicking.\n",
    "    \"\"\"\n",
    "\n",
    "    denom = probs['success_wp'] - probs['fail_wp']\n",
    "\n",
    "    breakeven_punt = (probs['punt_wp'] - probs['fail_wp']) / denom\n",
    "    breakeven_fg = (probs['fg_ev_wp'] - probs['fail_wp']) / denom\n",
    "\n",
    "    # Coerce breakevens to be in the range [0, 1]\n",
    "    breakeven_punt = max(min(1, breakeven_punt), 0)\n",
    "    breakeven_fg = max(min(1, breakeven_fg), 0)\n",
    "\n",
    "    return breakeven_punt, breakeven_fg\n",
    "\n",
    "\n",
    "def calc_prob_success(situation, data):\n",
    "    \"\"\"Use historical first down rates. When inside the opponent's 10,\n",
    "    use dwn, ytg, yfog specific rates. Otherwise, use binned yfog where\n",
    "    field is broken into 10 segments\"\"\"\n",
    "\n",
    "    fd_open = data['fd_open_field']\n",
    "    fd_inside = data['fd_inside_10']\n",
    "\n",
    "    if situation['yfog'] < 90:\n",
    "        try:\n",
    "            yfog_bin = situation['yfog'] // 10\n",
    "            p_success = fd_open.loc[(fd_open.dwn == situation['dwn']) &\n",
    "                                    (fd_open.ytg == situation['ytg']) &\n",
    "                                    (fd_open.yfog_bin == yfog_bin),\n",
    "                                    'fdr'].values[0]\n",
    "        except IndexError:\n",
    "            # Arbitrary, set the probability of success for very long\n",
    "            # 4th downs to be 0.1\n",
    "            p_success = 0.1\n",
    "\n",
    "    else:\n",
    "        p_success = fd_inside.loc[(fd_inside.dwn == situation['dwn']) &\n",
    "                                  (fd_inside.ytg == situation['ytg']) &\n",
    "                                  (fd_inside.yfog == situation['yfog']),\n",
    "                                  'fdr'].values[0]\n",
    "    return p_success\n",
    "\n",
    "\n",
    "def best_kicking_option(probs, wp_ev_goforit):\n",
    "    \"\"\"Use the expected win probabilities to determine best kicking option\"\"\"\n",
    "\n",
    "    # Account for end of game situations where FG WP is higher\n",
    "    if probs['fg_ev_wp'] > probs['punt_wp'] and probs['prob_success_fg'] > .3:\n",
    "        decision = 'kick'\n",
    "        win_prob_added = wp_ev_goforit - probs['fg_ev_wp']\n",
    "\n",
    "    else:\n",
    "        decision = 'punt'\n",
    "        win_prob_added = wp_ev_goforit - probs['punt_wp']\n",
    "\n",
    "    return decision, win_prob_added\n",
    "\n",
    "\n",
    "def decide_best_play(decision):\n",
    "    if (decision['kicking_option'] == 'punt' and\n",
    "            decision['prob_success'] < decision['breakeven_punt']):\n",
    "        return 'punt'\n",
    "\n",
    "    elif (decision['kicking_option'] == 'kick' and\n",
    "            decision['prob_success'] < decision['breakeven_fg']):\n",
    "        return 'kick'\n",
    "\n",
    "    else:\n",
    "        return 'go for it'\n",
    "\n",
    "\n",
    "def random_play(data):\n",
    "    \"\"\"Generate a random play with plausible values for debugging purposes.\"\"\"\n",
    "\n",
    "    features = data['features']\n",
    "    situation = OrderedDict.fromkeys(features)\n",
    "\n",
    "    situation['dwn'] = 4\n",
    "    situation['ytg'] = random.randint(1, 10)\n",
    "    situation['yfog'] = random.randint(1, (100 - situation['ytg']))\n",
    "    situation['secs_left'] = random.randint(1, 3600)\n",
    "    situation['score_diff'] = random.randint(-20, 20)\n",
    "    situation['timo'] = random.randint(0, 3)\n",
    "    situation['timd'] = random.randint(0, 3)\n",
    "    situation['spread'] = 0\n",
    "\n",
    "    situation = calculate_features(situation, data)\n",
    "\n",
    "    situation['dome'] = random.randint(0, 1)\n",
    "    return situation\n"
   ]
  },
  {
   "cell_type": "markdown",
   "metadata": {},
   "source": [
    "# Generating Response"
   ]
  },
  {
   "cell_type": "code",
   "execution_count": 139,
   "metadata": {
    "collapsed": true
   },
   "outputs": [],
   "source": [
    "data, model = load_data()"
   ]
  },
  {
   "cell_type": "code",
   "execution_count": 140,
   "metadata": {
    "collapsed": true
   },
   "outputs": [],
   "source": [
    "situation = random_play(data)"
   ]
  },
  {
   "cell_type": "code",
   "execution_count": 141,
   "metadata": {},
   "outputs": [
    {
     "data": {
      "text/plain": [
       "OrderedDict([('dwn', 4), ('yfog', 50), ('secs_left', 524), ('score_diff', -17), ('timo', 0), ('timd', 2), ('spread', 0.0), ('kneel_down', 0), ('qtr', 4), ('qtr_scorediff', -68), ('ytg', 1), ('poss_prob', 0.99749023982199991), ('dome', 1)])"
      ]
     },
     "execution_count": 141,
     "metadata": {},
     "output_type": "execute_result"
    }
   ],
   "source": [
    "situation"
   ]
  },
  {
   "cell_type": "code",
   "execution_count": 142,
   "metadata": {
    "collapsed": true
   },
   "outputs": [],
   "source": [
    "situation = calculate_features(situation, data)"
   ]
  },
  {
   "cell_type": "markdown",
   "metadata": {},
   "source": [
    "## Simulate Scenarios\n",
    "Simulate game state after each possible outcome.\n",
    "\n",
    "Possible scenarios are: touchdown, first down, turnover on downs,\n",
    "field goal attempt (success or failure), and punt."
   ]
  },
  {
   "cell_type": "code",
   "execution_count": 143,
   "metadata": {
    "collapsed": true
   },
   "outputs": [],
   "source": [
    "features = data['features']\n",
    "scenarios = dict()\n",
    "\n",
    "# If it's 4th & goal, success is a touchdown, otherwise a 1st down.\n",
    "\n",
    "if situation['ytg'] + situation['yfog'] >= 100:\n",
    "    scenarios['touchdown'] = change_poss(situation, touchdown, features)\n",
    "else:\n",
    "    scenarios['first_down'] = first_down(situation)\n",
    "\n",
    "scenarios['fail'] = change_poss(situation, turnover_downs, features)\n",
    "\n",
    "scenarios['punt'] = change_poss(situation, punt, features,\n",
    "                                  data=data['punts'])\n",
    "\n",
    "scenarios['fg'] = change_poss(situation, field_goal, features)\n",
    "scenarios['missed_fg'] = change_poss(situation, missed_field_goal,\n",
    "                                       features)\n"
   ]
  },
  {
   "cell_type": "code",
   "execution_count": 144,
   "metadata": {},
   "outputs": [
    {
     "data": {
      "text/plain": [
       "{'fail': OrderedDict([('dwn', 1), ('yfog', 50), ('secs_left', 514), ('score_diff', 17), ('timo', 2), ('timd', 0), ('spread', 0.0), ('kneel_down', 0), ('qtr', 4), ('qtr_scorediff', 68), ('ytg', 10)]),\n",
       " 'fg': OrderedDict([('dwn', 1), ('yfog', 25), ('secs_left', 514), ('score_diff', 14), ('timo', 2), ('timd', 0), ('spread', 0.0), ('kneel_down', 0), ('qtr', 4), ('qtr_scorediff', 56), ('ytg', 10)]),\n",
       " 'first_down': OrderedDict([('dwn', 1), ('ytg', 10), ('yfog', 51), ('secs_left', 514), ('score_diff', -17), ('timo', 0), ('timd', 2), ('spread', 0.0), ('kneel_down', 0), ('qtr', 4), ('qtr_scorediff', -68)]),\n",
       " 'missed_fg': OrderedDict([('dwn', 1), ('yfog', 58), ('secs_left', 514), ('score_diff', 17), ('timo', 2), ('timd', 0), ('spread', 0.0), ('kneel_down', 0), ('qtr', 4), ('qtr_scorediff', 68), ('ytg', 10)]),\n",
       " 'punt': OrderedDict([('dwn', 1), ('yfog', 15.0), ('secs_left', 514), ('score_diff', 17), ('timo', 2), ('timd', 0), ('spread', 0.0), ('kneel_down', 0), ('qtr', 4), ('qtr_scorediff', 68), ('ytg', 10)])}"
      ]
     },
     "execution_count": 144,
     "metadata": {},
     "output_type": "execute_result"
    }
   ],
   "source": [
    "scenarios"
   ]
  },
  {
   "cell_type": "markdown",
   "metadata": {},
   "source": [
    "## Generate Win Probabilities\n",
    "For each of the possible scenarios, estimate the win probability\n",
    "for that game state."
   ]
  },
  {
   "cell_type": "code",
   "execution_count": 145,
   "metadata": {
    "collapsed": true
   },
   "outputs": [],
   "source": [
    "probs = dict.fromkeys([k + '_wp' for k in scenarios.keys()])\n",
    "\n",
    "features = data['features']"
   ]
  },
  {
   "cell_type": "markdown",
   "metadata": {},
   "source": [
    "####  Pre-play win probability calculation\n",
    " Note there is more information in situation than just model features."
   ]
  },
  {
   "cell_type": "code",
   "execution_count": 147,
   "metadata": {
    "collapsed": true
   },
   "outputs": [],
   "source": [
    "feature_vec = [val for key, val in situation.items() if key in features]\n",
    "feature_vec = data['scaler'].transform(feature_vec)\n",
    "\n",
    "probs['pre_play_wp'] = model.predict_proba(feature_vec)[0][1]\n",
    "\n",
    "for scenario, outcome in scenarios.items():\n",
    "    feature_vec = [val for key, val in outcome.items() if key in features]\n",
    "    feature_vec = data['scaler'].transform(feature_vec)\n",
    "    pred_prob = model.predict_proba(feature_vec)[0][1]\n",
    "\n",
    "    # Change of possessions require 1 - WP\n",
    "    if scenario in ('fg', 'fail', 'punt', 'missed_fg', 'touchdown'):\n",
    "        pred_prob = 1 - pred_prob\n",
    "\n",
    "    probs[str(scenario + '_wp')] = pred_prob"
   ]
  },
  {
   "cell_type": "markdown",
   "metadata": {},
   "source": [
    "#### Account for situations in which an opponent's field goal can end the game, driving win probability down to 0."
   ]
  },
  {
   "cell_type": "code",
   "execution_count": 148,
   "metadata": {
    "collapsed": true
   },
   "outputs": [],
   "source": [
    "if (situation['secs_left'] < 40 and (0 <= situation['score_diff'] <= 2)\n",
    "        and situation['timo'] == 0):\n",
    "    # Estimate probability of successful field goal and\n",
    "    # set the win probability of failing to convert a 4th down\n",
    "    # to that win probability.\n",
    "\n",
    "    if situation['dome'] > 0:\n",
    "        prob_opp_fg = (data['fgs'].loc[\n",
    "                data['fgs'].yfog == scenarios['fail']['yfog'],\n",
    "                'dome_rate'].values[0])\n",
    "    else:\n",
    "        prob_opp_fg = (data['fgs'].loc[\n",
    "                data['fgs'].yfog == scenarios['fail']['yfog'],\n",
    "                'open_rate'].values[0])\n",
    "\n",
    "    probs['fail_wp'] = ((1 - prob_opp_fg) * probs['fail_wp'])"
   ]
  },
  {
   "cell_type": "markdown",
   "metadata": {},
   "source": [
    "#### Teams may not get the ball back during the 4th quarter\n",
    "#### Always have a 'success_wp' field, regardless of TD or 1st down"
   ]
  },
  {
   "cell_type": "code",
   "execution_count": 149,
   "metadata": {
    "collapsed": true
   },
   "outputs": [],
   "source": [
    "if situation['qtr'] == 4:\n",
    "    probs['fail_wp'] = probs['fail_wp'] * situation['poss_prob']\n",
    "    probs['punt_wp'] = probs['punt_wp'] * situation['poss_prob']\n",
    "\n",
    "if 'touchdown_wp' in probs:\n",
    "    probs['success_wp'] = probs['touchdown_wp']\n",
    "else:\n",
    "    probs['success_wp'] = probs['first_down_wp']"
   ]
  },
  {
   "cell_type": "code",
   "execution_count": 150,
   "metadata": {},
   "outputs": [
    {
     "data": {
      "text/plain": [
       "{'fail_wp': 0.012762516771399899,\n",
       " 'fg_wp': 0.031548003762246646,\n",
       " 'first_down_wp': 0.026590075584244782,\n",
       " 'missed_fg_wp': 0.011881806482152646,\n",
       " 'pre_play_wp': 0.020364559569521816,\n",
       " 'punt_wp': 0.017626940900797982,\n",
       " 'success_wp': 0.026590075584244782}"
      ]
     },
     "execution_count": 150,
     "metadata": {},
     "output_type": "execute_result"
    }
   ],
   "source": [
    "probs"
   ]
  },
  {
   "cell_type": "code",
   "execution_count": 151,
   "metadata": {
    "scrolled": true
   },
   "outputs": [
    {
     "data": {
      "text/plain": [
       "([<matplotlib.axis.XTick at 0x13402978>,\n",
       "  <matplotlib.axis.XTick at 0x13402b00>,\n",
       "  <matplotlib.axis.XTick at 0x13402ef0>,\n",
       "  <matplotlib.axis.XTick at 0xe8aac50>,\n",
       "  <matplotlib.axis.XTick at 0xe8e22e8>,\n",
       "  <matplotlib.axis.XTick at 0xe8e2940>,\n",
       "  <matplotlib.axis.XTick at 0xe8e2f98>],\n",
       " <a list of 7 Text xticklabel objects>)"
      ]
     },
     "execution_count": 151,
     "metadata": {},
     "output_type": "execute_result"
    },
    {
     "data": {
      "image/png": "[encoded data removed]",
      "text/plain": [
       "<matplotlib.figure.Figure at 0x10f90c18>"
      ]
     },
     "metadata": {},
     "output_type": "display_data"
    }
   ],
   "source": [
    "df = pd.DataFrame(probs, index=[0]).T\n",
    "df.plot()\n",
    "plt.xticks(np.arange(0, len(df.index), 1), df.index, rotation=45)"
   ]
  },
  {
   "cell_type": "markdown",
   "metadata": {},
   "source": [
    "### Generate Decision\n",
    "Decide on optimal play based on game states and their associated\n",
    "win probabilities. Note the currently 'best play' is based purely\n",
    "on the outcome with the highest expected win probability. This\n",
    "does not account for uncertainty of these estimates.\n",
    "\n",
    "For example, the win probabilty added by a certain play may be\n",
    "very small (0.0001), but that may be the 'best play."
   ]
  },
  {
   "cell_type": "markdown",
   "metadata": {},
   "source": [
    "#### Calcluate Probability of Success\n",
    "Use historical first down rates. When inside the opponent's 10,\n",
    "use dwn, ytg, yfog specific rates. Otherwise, use binned yfog where\n",
    "field is broken into 10 segments"
   ]
  },
  {
   "cell_type": "code",
   "execution_count": 152,
   "metadata": {
    "collapsed": true
   },
   "outputs": [],
   "source": [
    "decision = {}\n",
    "decision['prob_success'] = calc_prob_success(situation, data)"
   ]
  },
  {
   "cell_type": "markdown",
   "metadata": {},
   "source": [
    "#### Expected value of win probability of going for it"
   ]
  },
  {
   "cell_type": "code",
   "execution_count": 153,
   "metadata": {
    "collapsed": true
   },
   "outputs": [],
   "source": [
    "wp_ev_goforit = expected_win_prob(decision['prob_success'],\n",
    "                                  probs['success_wp'],\n",
    "                                  probs['fail_wp'])\n",
    "probs['wp_ev_goforit'] = wp_ev_goforit"
   ]
  },
  {
   "cell_type": "markdown",
   "metadata": {},
   "source": [
    "#### Expected value of kick factors in probability of FG"
   ]
  },
  {
   "cell_type": "code",
   "execution_count": 154,
   "metadata": {
    "collapsed": true
   },
   "outputs": [],
   "source": [
    "if 'fg_make_prob' in situation and isinstance(situation['fg_make_prob'], float):\n",
    "    pos = situation['fg_make_prob']\n",
    "else:\n",
    "    fgs = data['fgs']\n",
    "\n",
    "    # Set the probability of success of implausibly long kicks to 0.\n",
    "    try:\n",
    "        if situation['yfog'] < 42:\n",
    "            pos = 0\n",
    "        else:\n",
    "            # Account for indoor vs. outdoor kicking\n",
    "            if situation['dome'] > 0:\n",
    "                pos = fgs.loc[fgs.yfog == situation['yfog'], 'average'].values[0]\n",
    "            else:\n",
    "                pos = fgs.loc[fgs.yfog == situation['yfog'], 'average'].values[0]\n",
    "\n",
    "    except:\n",
    "        pos = 0\n",
    "            \n",
    "probs['prob_success_fg']  = pos\n",
    "probs['fg_ev_wp'] = expected_win_prob(pos, probs['fg_wp'], probs['missed_fg_wp'])"
   ]
  },
  {
   "cell_type": "markdown",
   "metadata": {},
   "source": [
    "#### If the offense can end the game with a field goal, set the expected win probability for a field goal attempt to the probability of a successful field goal kick."
   ]
  },
  {
   "cell_type": "code",
   "execution_count": 155,
   "metadata": {
    "collapsed": true
   },
   "outputs": [],
   "source": [
    "if (situation['secs_left'] < 40 and (-2 <= situation['score_diff'] <= 0)\n",
    "    and situation['timd'] == 0):\n",
    "        probs['fg_wp'] = probs['prob_success_fg']\n",
    "        probs['fg_ev_wp'] = probs['prob_success_fg']"
   ]
  },
  {
   "cell_type": "markdown",
   "metadata": {},
   "source": [
    "#### If down by more than a field goal in the 4th quarter, need to incorporate the probability that you will get the ball back."
   ]
  },
  {
   "cell_type": "code",
   "execution_count": 156,
   "metadata": {
    "collapsed": true
   },
   "outputs": [],
   "source": [
    "if situation['qtr'] == 4 and situation['score_diff'] < -3:\n",
    "    probs['fg_ev_wp'] = probs['fg_ev_wp'] * situation['poss_prob']"
   ]
  },
  {
   "cell_type": "markdown",
   "metadata": {},
   "source": [
    "#### Breakeven success probabilities\n",
    "##### Calculates the breakeven point for making the decision.\n",
    "The breakeven is the point at which a coach should be indifferent\n",
    "between two options. We compare the expected win probability\n",
    "of going for it on 4th down to the next best kicking option\n",
    "and determine what the probability of converting the 4th down\n",
    "needs to be in order to make the coach indifferent to going for it\n",
    "or kicking."
   ]
  },
  {
   "cell_type": "code",
   "execution_count": 157,
   "metadata": {
    "collapsed": true
   },
   "outputs": [],
   "source": [
    "denom = probs['success_wp'] - probs['fail_wp']\n",
    "\n",
    "breakeven_punt = (probs['punt_wp'] - probs['fail_wp']) / denom\n",
    "breakeven_fg = (probs['fg_ev_wp'] - probs['fail_wp']) / denom\n",
    "\n",
    "# Coerce breakevens to be in the range [0, 1]\n",
    "breakeven_punt = max(min(1, breakeven_punt), 0)\n",
    "breakeven_fg = max(min(1, breakeven_fg), 0)\n",
    "\n",
    "decision['breakeven_fg'] = breakeven_fg\n",
    "decision['breakeven_punt'] = breakeven_punt"
   ]
  },
  {
   "cell_type": "markdown",
   "metadata": {},
   "source": [
    "#### Of the kicking options, pick the one with the highest E(WP)\n",
    "Use the expected win probabilities to determine best kicking option"
   ]
  },
  {
   "cell_type": "code",
   "execution_count": 159,
   "metadata": {
    "collapsed": true
   },
   "outputs": [],
   "source": [
    "# Account for end of game situations where FG WP is higher\n",
    "if probs['fg_ev_wp'] > probs['punt_wp'] and probs['prob_success_fg'] > .3:\n",
    "    kick_decision = 'kick'\n",
    "    win_prob_added = wp_ev_goforit - probs['fg_ev_wp']\n",
    "\n",
    "else:\n",
    "    kick_decision = 'punt'\n",
    "    win_prob_added = wp_ev_goforit - probs['punt_wp']\n",
    "\n",
    "decision['kicking_option'] = kick_decision\n",
    "decision['wpa_going_for_it'] = win_prob_added"
   ]
  },
  {
   "cell_type": "markdown",
   "metadata": {},
   "source": [
    "#### Make the final call on kick / punt / go for it"
   ]
  },
  {
   "cell_type": "code",
   "execution_count": 160,
   "metadata": {
    "collapsed": true
   },
   "outputs": [],
   "source": [
    "if (decision['kicking_option'] == 'punt' and\n",
    "        decision['prob_success'] < decision['breakeven_punt']):\n",
    "    best_play = 'punt'\n",
    "\n",
    "elif (decision['kicking_option'] == 'kick' and\n",
    "        decision['prob_success'] < decision['breakeven_fg']):\n",
    "    best_play = 'kick'\n",
    "\n",
    "else:\n",
    "    best_play = 'go for it'\n",
    "    \n",
    "decision['best_play'] = best_play"
   ]
  },
  {
   "cell_type": "code",
   "execution_count": 161,
   "metadata": {},
   "outputs": [
    {
     "data": {
      "text/plain": [
       "{'best_play': 'go for it',\n",
       " 'breakeven_fg': 0,\n",
       " 'breakeven_punt': 0.35179196814403396,\n",
       " 'kicking_option': 'punt',\n",
       " 'prob_success': 0.68804664723000009,\n",
       " 'wpa_going_for_it': 0.0046495813511554795}"
      ]
     },
     "execution_count": 161,
     "metadata": {},
     "output_type": "execute_result"
    }
   ],
   "source": [
    "decision"
   ]
  },
  {
   "cell_type": "code",
   "execution_count": 162,
   "metadata": {},
   "outputs": [
    {
     "data": {
      "text/plain": [
       "{'fail_wp': 0.012762516771399899,\n",
       " 'fg_ev_wp': 0.011851985997401036,\n",
       " 'fg_wp': 0.031548003762246646,\n",
       " 'first_down_wp': 0.026590075584244782,\n",
       " 'missed_fg_wp': 0.011881806482152646,\n",
       " 'pre_play_wp': 0.020364559569521816,\n",
       " 'prob_success_fg': 0,\n",
       " 'punt_wp': 0.017626940900797982,\n",
       " 'success_wp': 0.026590075584244782,\n",
       " 'wp_ev_goforit': 0.022276522251953462}"
      ]
     },
     "execution_count": 162,
     "metadata": {},
     "output_type": "execute_result"
    }
   ],
   "source": [
    "probs"
   ]
  },
  {
   "cell_type": "markdown",
   "metadata": {},
   "source": [
    "## Compare to Historical Decision"
   ]
  },
  {
   "cell_type": "code",
   "execution_count": 163,
   "metadata": {
    "collapsed": true
   },
   "outputs": [],
   "source": [
    "decision = get_historical_decision(situation, data, decision)"
   ]
  },
  {
   "cell_type": "code",
   "execution_count": 164,
   "metadata": {
    "collapsed": true
   },
   "outputs": [],
   "source": [
    "payload = {'decision': decision, 'probs': probs, 'situation': situation}"
   ]
  },
  {
   "cell_type": "code",
   "execution_count": 165,
   "metadata": {},
   "outputs": [
    {
     "data": {
      "text/plain": [
       "{'decision': {'best_play': 'go for it',\n",
       "  'breakeven_fg': 0,\n",
       "  'breakeven_punt': 0.35179196814403396,\n",
       "  'historical_goforit_N': 1412.0,\n",
       "  'historical_goforit_pct': 0.41855524079299999,\n",
       "  'historical_kick_pct': 0.00070821529745000006,\n",
       "  'historical_punt_pct': 0.58073654390899998,\n",
       "  'kicking_option': 'punt',\n",
       "  'prob_success': 0.68804664723000009,\n",
       "  'wpa_going_for_it': 0.0046495813511554795},\n",
       " 'probs': {'fail_wp': 0.012762516771399899,\n",
       "  'fg_ev_wp': 0.011851985997401036,\n",
       "  'fg_wp': 0.031548003762246646,\n",
       "  'first_down_wp': 0.026590075584244782,\n",
       "  'missed_fg_wp': 0.011881806482152646,\n",
       "  'pre_play_wp': 0.020364559569521816,\n",
       "  'prob_success_fg': 0,\n",
       "  'punt_wp': 0.017626940900797982,\n",
       "  'success_wp': 0.026590075584244782,\n",
       "  'wp_ev_goforit': 0.022276522251953462},\n",
       " 'situation': OrderedDict([('dwn', 4), ('yfog', 50), ('secs_left', 524), ('score_diff', -17), ('timo', 0), ('timd', 2), ('spread', 0.0), ('kneel_down', 0), ('qtr', 4), ('qtr_scorediff', -68), ('ytg', 1), ('poss_prob', 0.99749023982199991), ('dome', 1)])}"
      ]
     },
     "execution_count": 165,
     "metadata": {},
     "output_type": "execute_result"
    }
   ],
   "source": [
    "payload"
   ]
  },
  {
   "cell_type": "markdown",
   "metadata": {},
   "source": [
    "## Calculator"
   ]
  },
  {
   "cell_type": "code",
   "execution_count": 172,
   "metadata": {
    "collapsed": true
   },
   "outputs": [],
   "source": [
    "situation =  OrderedDict([('dwn', 4), ('yfog', 60), ('secs_left', 1413), \n",
    "    ('score_diff', -1), ('timo', 1), ('timd', 0), ('spread', 0.0), \n",
    "    ('kneel_down', 0), ('qtr', 3), ('qtr_scorediff', -36), ('ytg', 4), \n",
    "    ('poss_prob', 1.0), ('dome', 0)])"
   ]
  },
  {
   "cell_type": "code",
   "execution_count": 173,
   "metadata": {},
   "outputs": [
    {
     "data": {
      "text/plain": [
       "{'decision': {'best_play': 'kick',\n",
       "  'breakeven_fg': 0.52969608866177564,\n",
       "  'breakeven_punt': 0.420689530504327,\n",
       "  'historical_goforit_N': 1145.0,\n",
       "  'historical_goforit_pct': 0.10742358078600001,\n",
       "  'historical_kick_pct': 0.66986899563299995,\n",
       "  'historical_punt_pct': 0.22270742358100001,\n",
       "  'kicking_option': 'kick',\n",
       "  'prob_success': 0.49410609037299996,\n",
       "  'wpa_going_for_it': -0.0054794010403955706},\n",
       " 'probs': {'fail_wp': 0.41563019689999026,\n",
       "  'fg_ev_wp': 0.49718168436443799,\n",
       "  'fg_wp': 0.58684920964660203,\n",
       "  'first_down_wp': 0.56958921077619129,\n",
       "  'missed_fg_wp': 0.39755110071746291,\n",
       "  'pre_play_wp': 0.49473899918735792,\n",
       "  'prob_success_fg': 0.52631578947400004,\n",
       "  'punt_wp': 0.48039914216447843,\n",
       "  'success_wp': 0.56958921077619129,\n",
       "  'wp_ev_goforit': 0.49170228332404242},\n",
       " 'situation': OrderedDict([('dwn', 4), ('yfog', 60), ('secs_left', 1413), ('score_diff', -1), ('timo', 1), ('timd', 0), ('spread', 0.0), ('kneel_down', 0), ('qtr', 3), ('qtr_scorediff', -3), ('ytg', 4), ('poss_prob', 1.0), ('dome', 0)])}"
      ]
     },
     "execution_count": 173,
     "metadata": {},
     "output_type": "execute_result"
    }
   ],
   "source": [
    "generate_response(situation, data, model)"
   ]
  }
 ],
 "metadata": {
  "kernelspec": {
   "display_name": "Python 3",
   "language": "python",
   "name": "python3"
  },
  "language_info": {
   "codemirror_mode": {
    "name": "ipython",
    "version": 3
   },
   "file_extension": ".py",
   "mimetype": "text/x-python",
   "name": "python",
   "nbconvert_exporter": "python",
   "pygments_lexer": "ipython3",
   "version": "3.6.3"
  }
 },
 "nbformat": 4,
 "nbformat_minor": 1
}
