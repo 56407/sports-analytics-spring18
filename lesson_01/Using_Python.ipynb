{
 "cells": [
  {
   "cell_type": "markdown",
   "metadata": {},
   "source": [
    "# Using Jupyter Notebooks for Python Data Analysis"
   ]
  },
  {
   "cell_type": "markdown",
   "metadata": {},
   "source": [
    "## What is Python\n",
    "* Programming language that was first released in 1991\n",
    "* High-level programming language that has strong abstraction from computer\n",
    "* Emphasizes readability\n",
    "\n",
    "In short, it helps you fly\n",
    "\n",
    "![Python Makes You Fly](https://imgs.xkcd.com/comics/python.png)"
   ]
  },
  {
   "cell_type": "markdown",
   "metadata": {},
   "source": [
    "## Zen of Python\n",
    "* Beautiful is better than ugly.\n",
    "\n",
    "* Explicit is better than implicit.\n",
    "\n",
    "* Simple is better than complex.\n",
    "\n",
    "* Complex is better than complicated.\n",
    "\n",
    "* Flat is better than nested.\n",
    "\n",
    "* Sparse is better than dense.\n",
    "\n",
    "* Readability counts.\n",
    "\n",
    "* Special cases aren't special enough to break the rules.\n",
    "\n",
    "* Although practicality beats purity.\n",
    "\n",
    "* Errors should never pass silently.\n",
    "\n",
    "* Unless explicitly silenced.\n",
    "\n",
    "* In the face of ambiguity, refuse the temptation to guess.\n",
    "\n",
    "* There should be one-- and preferably only one --obvious way to do it.\n",
    "\n",
    "* Although that way may not be obvious at first unless you're Dutch.\n",
    "\n",
    "* Now is better than never.\n",
    "\n",
    "* Although never is often better than *right* now.\n",
    "\n",
    "* If the implementation is hard to explain, it's a bad idea.\n",
    "\n",
    "* If the implementation is easy to explain, it may be a good idea.\n",
    "\n",
    "* Namespaces are one honking great idea -- let's do more of those!"
   ]
  },
  {
   "cell_type": "markdown",
   "metadata": {},
   "source": [
    "## What is a Jupyter Notebook\n",
    "* IPython began in 2001 with the goal of creating a better interactive Python interpreter\n",
    "* Encourages the execute-explore workflow\n",
    "* In 2014, Jupyter project was announced in order to build language-agnostic interactive computing tools\n",
    "    * Supports over 40 languages\n",
    "    * IPython is a part of the Jupyter project\n",
    "* Notebooks allow for a number of cell types including Markdown (like this cell!) for formatting purposes\n",
    "    * [Markdown examples](https://github.com/adam-p/markdown-here/wiki/Markdown-Cheatsheet)"
   ]
  },
  {
   "cell_type": "markdown",
   "metadata": {},
   "source": [
    "## How to run Jupyter Notebook Cells\n",
    "* Run a cell with SHIFT + ENTER"
   ]
  },
  {
   "cell_type": "markdown",
   "metadata": {},
   "source": [
    "## Python Language Basics"
   ]
  },
  {
   "cell_type": "markdown",
   "metadata": {},
   "source": [
    "### Comments"
   ]
  },
  {
   "cell_type": "code",
   "execution_count": 11,
   "metadata": {},
   "outputs": [],
   "source": [
    "# Comments are indicated by utilizing a pound sign at the beginning of the line\n",
    "# Nothing will be output in the output cell if it begins with "
   ]
  },
  {
   "cell_type": "markdown",
   "metadata": {},
   "source": [
    "### Strings"
   ]
  },
  {
   "cell_type": "code",
   "execution_count": 12,
   "metadata": {},
   "outputs": [
    {
     "name": "stdout",
     "output_type": "stream",
     "text": [
      "Hello World\n"
     ]
    }
   ],
   "source": [
    "# Strings are enclosed with either single or double quotes i.e. 'string', or \"string\"\n",
    "print(\"Hello World\")"
   ]
  },
  {
   "cell_type": "markdown",
   "metadata": {},
   "source": [
    "### Numeric Types\n",
    "* There are two numeric types, int and float\n",
    "* int can store integers, and float stores floating-point numbers"
   ]
  },
  {
   "cell_type": "code",
   "execution_count": 13,
   "metadata": {},
   "outputs": [
    {
     "data": {
      "text/plain": [
       "int"
      ]
     },
     "execution_count": 13,
     "metadata": {},
     "output_type": "execute_result"
    }
   ],
   "source": [
    "type(2)"
   ]
  },
  {
   "cell_type": "code",
   "execution_count": 14,
   "metadata": {},
   "outputs": [
    {
     "data": {
      "text/plain": [
       "float"
      ]
     },
     "execution_count": 14,
     "metadata": {},
     "output_type": "execute_result"
    }
   ],
   "source": [
    "type(2.5)"
   ]
  },
  {
   "cell_type": "code",
   "execution_count": 15,
   "metadata": {},
   "outputs": [
    {
     "name": "stdout",
     "output_type": "stream",
     "text": [
      "0.75\n",
      "0.75\n"
     ]
    }
   ],
   "source": [
    "## Note: Division operations on integers will not return a float values.  \n",
    "## To return a float, a float must be passed in the denominator\n",
    "print(3 / 4)\n",
    "print(3 / 4.0)"
   ]
  },
  {
   "cell_type": "markdown",
   "metadata": {},
   "source": [
    "### Functions\n",
    "* Functions help clean and organize code\n",
    "* It is best to use a function if similar code will be used more than once\n",
    "* Functions make code more readable by providing a name to a group of Python statements\n",
    "* We can use a function to take the average of 4 numbers\n",
    "* First we will sum up the numbers 2, 4, 6, and 8 and divide by 4 (using parentheses to ensure order of operations is important)"
   ]
  },
  {
   "cell_type": "code",
   "execution_count": 16,
   "metadata": {},
   "outputs": [],
   "source": [
    "def take_average_of_4_numbers(num1, num2, num3, num4):\n",
    "    sum_numbers = num1+num2+num3+num4\n",
    "    count_numbers = len([num1, num2, num3, num4])\n",
    "    return ((sum_numbers)/float(count_numbers))"
   ]
  },
  {
   "cell_type": "code",
   "execution_count": 17,
   "metadata": {},
   "outputs": [
    {
     "data": {
      "text/plain": [
       "5.0"
      ]
     },
     "execution_count": 17,
     "metadata": {},
     "output_type": "execute_result"
    }
   ],
   "source": [
    "take_average_of_4_numbers(2, 4, 6, 8)"
   ]
  },
  {
   "cell_type": "markdown",
   "metadata": {},
   "source": [
    "## Certain packages make tasks much easier\n",
    "* NumPy adds support for arrays and matrices and makes running high level math easy"
   ]
  },
  {
   "cell_type": "code",
   "execution_count": 18,
   "metadata": {},
   "outputs": [],
   "source": [
    "import numpy as np"
   ]
  },
  {
   "cell_type": "markdown",
   "metadata": {},
   "source": [
    "*  np.mean is what is known as a function, which takes arguments\n",
    "*  We can also define our list of numbers as a variable, making the code simpler to read\n",
    "*  Now we will call the mean function from NumPy\n",
    "*  You can research docs online (http://docs.scipy.org/doc/numpy/reference/generated/numpy.mean.html)\n",
    "*  We need to compile the numbers into a list for this to work"
   ]
  },
  {
   "cell_type": "code",
   "execution_count": 19,
   "metadata": {},
   "outputs": [
    {
     "data": {
      "text/plain": [
       "5.0"
      ]
     },
     "execution_count": 19,
     "metadata": {},
     "output_type": "execute_result"
    }
   ],
   "source": [
    "np.mean([2, 4, 6, 8])"
   ]
  },
  {
   "cell_type": "code",
   "execution_count": 20,
   "metadata": {},
   "outputs": [
    {
     "data": {
      "text/plain": [
       "5.0"
      ]
     },
     "execution_count": 20,
     "metadata": {},
     "output_type": "execute_result"
    }
   ],
   "source": [
    "x = [2, 4, 6, 8]\n",
    "np.mean(x)"
   ]
  },
  {
   "cell_type": "markdown",
   "metadata": {},
   "source": [
    "## Lists\n",
    "* An important concept in Python is the list, which can be used for a variety of reasons\n",
    "* Lists are defined by square brackets\n",
    "* We can even have a list of string values (but don't try taking a mean over them!)"
   ]
  },
  {
   "cell_type": "code",
   "execution_count": 21,
   "metadata": {},
   "outputs": [
    {
     "ename": "TypeError",
     "evalue": "cannot perform reduce with flexible type",
     "output_type": "error",
     "traceback": [
      "\u001b[0;31m---------------------------------------------------------------------------\u001b[0m",
      "\u001b[0;31mTypeError\u001b[0m                                 Traceback (most recent call last)",
      "\u001b[0;32m<ipython-input-21-2ecfa183fd71>\u001b[0m in \u001b[0;36m<module>\u001b[0;34m()\u001b[0m\n\u001b[1;32m      1\u001b[0m \u001b[0mbest_mlb_players\u001b[0m \u001b[0;34m=\u001b[0m \u001b[0;34m[\u001b[0m\u001b[0;34m'Edgar Martinez'\u001b[0m\u001b[0;34m,\u001b[0m \u001b[0;34m'Ken Griffey Jr.'\u001b[0m\u001b[0;34m,\u001b[0m \u001b[0;34m'Felix Hernandez'\u001b[0m\u001b[0;34m]\u001b[0m\u001b[0;34m\u001b[0m\u001b[0m\n\u001b[0;32m----> 2\u001b[0;31m \u001b[0mnp\u001b[0m\u001b[0;34m.\u001b[0m\u001b[0mmean\u001b[0m\u001b[0;34m(\u001b[0m\u001b[0mbest_mlb_players\u001b[0m\u001b[0;34m)\u001b[0m\u001b[0;34m\u001b[0m\u001b[0m\n\u001b[0m",
      "\u001b[0;32m/opt/conda/lib/python3.6/site-packages/numpy/core/fromnumeric.py\u001b[0m in \u001b[0;36mmean\u001b[0;34m(a, axis, dtype, out, keepdims)\u001b[0m\n\u001b[1;32m   2907\u001b[0m \u001b[0;34m\u001b[0m\u001b[0m\n\u001b[1;32m   2908\u001b[0m     return _methods._mean(a, axis=axis, dtype=dtype,\n\u001b[0;32m-> 2909\u001b[0;31m                           out=out, **kwargs)\n\u001b[0m\u001b[1;32m   2910\u001b[0m \u001b[0;34m\u001b[0m\u001b[0m\n\u001b[1;32m   2911\u001b[0m \u001b[0;34m\u001b[0m\u001b[0m\n",
      "\u001b[0;32m/opt/conda/lib/python3.6/site-packages/numpy/core/_methods.py\u001b[0m in \u001b[0;36m_mean\u001b[0;34m(a, axis, dtype, out, keepdims)\u001b[0m\n\u001b[1;32m     68\u001b[0m             \u001b[0mis_float16_result\u001b[0m \u001b[0;34m=\u001b[0m \u001b[0;32mTrue\u001b[0m\u001b[0;34m\u001b[0m\u001b[0m\n\u001b[1;32m     69\u001b[0m \u001b[0;34m\u001b[0m\u001b[0m\n\u001b[0;32m---> 70\u001b[0;31m     \u001b[0mret\u001b[0m \u001b[0;34m=\u001b[0m \u001b[0mumr_sum\u001b[0m\u001b[0;34m(\u001b[0m\u001b[0marr\u001b[0m\u001b[0;34m,\u001b[0m \u001b[0maxis\u001b[0m\u001b[0;34m,\u001b[0m \u001b[0mdtype\u001b[0m\u001b[0;34m,\u001b[0m \u001b[0mout\u001b[0m\u001b[0;34m,\u001b[0m \u001b[0mkeepdims\u001b[0m\u001b[0;34m)\u001b[0m\u001b[0;34m\u001b[0m\u001b[0m\n\u001b[0m\u001b[1;32m     71\u001b[0m     \u001b[0;32mif\u001b[0m \u001b[0misinstance\u001b[0m\u001b[0;34m(\u001b[0m\u001b[0mret\u001b[0m\u001b[0;34m,\u001b[0m \u001b[0mmu\u001b[0m\u001b[0;34m.\u001b[0m\u001b[0mndarray\u001b[0m\u001b[0;34m)\u001b[0m\u001b[0;34m:\u001b[0m\u001b[0;34m\u001b[0m\u001b[0m\n\u001b[1;32m     72\u001b[0m         ret = um.true_divide(\n",
      "\u001b[0;31mTypeError\u001b[0m: cannot perform reduce with flexible type"
     ]
    }
   ],
   "source": [
    "best_mlb_players = ['Edgar Martinez', 'Ken Griffey Jr.', 'Felix Hernandez']\n",
    "np.mean(best_mlb_players)"
   ]
  },
  {
   "cell_type": "markdown",
   "metadata": {},
   "source": [
    "## Errors\n",
    "* Speaking of errors, they are very important\n",
    "* Be sure to read through the error to find out why you might have an issue\n",
    "* Our error of \"TypeError: cannot perform reduce with flexible type\"\n",
    "* We can use Stack Overflow to search our error and find out why we have an error\n",
    "* http://stackoverflow.com/questions/28393103/typeerror-cannot-perform-reduce-with-flexible-type"
   ]
  },
  {
   "cell_type": "code",
   "execution_count": 22,
   "metadata": {},
   "outputs": [
    {
     "data": {
      "text/plain": [
       "'Edgar Martinez'"
      ]
     },
     "execution_count": 22,
     "metadata": {},
     "output_type": "execute_result"
    }
   ],
   "source": [
    "# Slicing lists is a quick way to find out the information you want\n",
    "# Be aware that Python counts from 0, so to get the first person in our list, we slice the 0th element\n",
    "best_mlb_players[0]"
   ]
  },
  {
   "cell_type": "code",
   "execution_count": 23,
   "metadata": {},
   "outputs": [
    {
     "data": {
      "text/plain": [
       "['Edgar Martinez', 'Ken Griffey Jr.', 'Felix Hernandez']"
      ]
     },
     "execution_count": 23,
     "metadata": {},
     "output_type": "execute_result"
    }
   ],
   "source": [
    "# We can also select a range of values\n",
    "best_mlb_players[0:3]"
   ]
  },
  {
   "cell_type": "code",
   "execution_count": 24,
   "metadata": {},
   "outputs": [
    {
     "name": "stdout",
     "output_type": "stream",
     "text": [
      "['Edgar Martinez', 'Ken Griffey Jr.', 'Felix Hernandez', 'Jay Buhner', 'Jamie Moyer']\n",
      "['Edgar Martinez', 'Ken Griffey Jr.', 'Felix Hernandez', 'Jose Cruz Jr.']\n",
      "6\n"
     ]
    }
   ],
   "source": [
    "# We can \"concatenate\" lists by adding them together\n",
    "print(best_mlb_players + ['Jay Buhner', 'Jamie Moyer'])\n",
    "# But the list only saves them if we save, or append values\n",
    "best_mlb_players.append('Jose Cruz Jr.')\n",
    "print(best_mlb_players)\n",
    "# Check the length of a list\n",
    "print(len(best_mlb_players + ['Jay Buhner', 'Jamie Moyer']))"
   ]
  },
  {
   "cell_type": "markdown",
   "metadata": {},
   "source": [
    "### For Loops and Indentation\n",
    "* For loops allow us to run the same code over collection or an iterator\n",
    "* Python uses whitespace instead of braces to structure for loops\n",
    "* Colons denote the start of an indented block"
   ]
  },
  {
   "cell_type": "code",
   "execution_count": 25,
   "metadata": {},
   "outputs": [
    {
     "name": "stdout",
     "output_type": "stream",
     "text": [
      "Edgar Martinez\n",
      "Ken Griffey Jr.\n",
      "Felix Hernandez\n",
      "Jose Cruz Jr.\n"
     ]
    }
   ],
   "source": [
    "for player in best_mlb_players:\n",
    "    print(player)"
   ]
  },
  {
   "cell_type": "markdown",
   "metadata": {},
   "source": [
    "### Binary Operators\n",
    "* We can use binary operators in for loops and if/else statement"
   ]
  },
  {
   "cell_type": "code",
   "execution_count": 26,
   "metadata": {},
   "outputs": [
    {
     "name": "stdout",
     "output_type": "stream",
     "text": [
      "Edgar is the best!\n"
     ]
    }
   ],
   "source": [
    "for player in best_mlb_players:\n",
    "    if player=='Edgar Martinez':\n",
    "        print(\"Edgar is the best!\")\n",
    "    else:\n",
    "        continue"
   ]
  },
  {
   "cell_type": "code",
   "execution_count": 27,
   "metadata": {},
   "outputs": [
    {
     "name": "stdout",
     "output_type": "stream",
     "text": [
      "Edgar Martinez 14\n",
      "Ken Griffey Jr. 15\n",
      "Felix Hernandez 15\n",
      "Jose Cruz Jr.  has shortest name of our list with only 13 characters\n"
     ]
    }
   ],
   "source": [
    "for player in best_mlb_players:\n",
    "    if len(player)<14:\n",
    "        print(player, \" has shortest name of our list with only {} characters\".format(len(player)))\n",
    "    else:\n",
    "        print(player, len(player))"
   ]
  }
 ],
 "metadata": {
  "anaconda-cloud": {},
  "kernelspec": {
   "display_name": "Python 3",
   "language": "python",
   "name": "python3"
  },
  "language_info": {
   "codemirror_mode": {
    "name": "ipython",
    "version": 3
   },
   "file_extension": ".py",
   "mimetype": "text/x-python",
   "name": "python",
   "nbconvert_exporter": "python",
   "pygments_lexer": "ipython3",
   "version": "3.6.3"
  }
 },
 "nbformat": 4,
 "nbformat_minor": 1
}
