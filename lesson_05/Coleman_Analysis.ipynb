{
 "cells": [
  {
   "cell_type": "code",
   "execution_count": 1,
   "metadata": {
    "collapsed": true
   },
   "outputs": [],
   "source": [
    "import numpy as np\n",
    "import pandas as pd\n",
    "%matplotlib inline\n",
    "import matplotlib.pyplot as plt\n",
    "plt.style.use('ggplot')\n",
    "import requests\n",
    "import datetime\n",
    "import time\n",
    "from scipy import stats"
   ]
  },
  {
   "cell_type": "markdown",
   "metadata": {},
   "source": [
    "## Derrick Coleman Analysis"
   ]
  },
  {
   "cell_type": "code",
   "execution_count": 2,
   "metadata": {
    "collapsed": false
   },
   "outputs": [],
   "source": [
    "four_factors = pd.read_csv('four_factors_19992001.csv')"
   ]
  },
  {
   "cell_type": "code",
   "execution_count": 3,
   "metadata": {
    "collapsed": false
   },
   "outputs": [],
   "source": [
    "four_factors = four_factors[~(four_factors['id']=='id')].reset_index(drop=True)"
   ]
  },
  {
   "cell_type": "code",
   "execution_count": 4,
   "metadata": {
    "collapsed": false
   },
   "outputs": [],
   "source": [
    "four_factors['chh_flag'] = four_factors.apply(lambda row: 1 if row['away']=='CHH' else 1 if row['home']=='CHH' else 0, axis=1)"
   ]
  },
  {
   "cell_type": "code",
   "execution_count": 5,
   "metadata": {
    "collapsed": false
   },
   "outputs": [],
   "source": [
    "four_factors_chh = four_factors[four_factors['chh_flag']==1].reset_index(drop=True)"
   ]
  },
  {
   "cell_type": "code",
   "execution_count": 6,
   "metadata": {
    "collapsed": false
   },
   "outputs": [
    {
     "data": {
      "text/html": [
       "<div>\n",
       "<table border=\"1\" class=\"dataframe\">\n",
       "  <thead>\n",
       "    <tr style=\"text-align: right;\">\n",
       "      <th></th>\n",
       "      <th>away</th>\n",
       "      <th>away_efg_pct</th>\n",
       "      <th>away_ft_rate</th>\n",
       "      <th>away_off_rtg</th>\n",
       "      <th>away_orb_pct</th>\n",
       "      <th>away_pace</th>\n",
       "      <th>away_tov_pct</th>\n",
       "      <th>home</th>\n",
       "      <th>home_efg_pct</th>\n",
       "      <th>home_ft_rate</th>\n",
       "      <th>home_off_rtg</th>\n",
       "      <th>home_orb_pct</th>\n",
       "      <th>home_pace</th>\n",
       "      <th>home_tov_pct</th>\n",
       "      <th>id</th>\n",
       "      <th>chh_flag</th>\n",
       "    </tr>\n",
       "  </thead>\n",
       "  <tbody>\n",
       "    <tr>\n",
       "      <th>0</th>\n",
       "      <td>ORL</td>\n",
       "      <td>.425</td>\n",
       "      <td>.225</td>\n",
       "      <td>84.7</td>\n",
       "      <td>26.7</td>\n",
       "      <td>101.5</td>\n",
       "      <td>19.3</td>\n",
       "      <td>CHH</td>\n",
       "      <td>.476</td>\n",
       "      <td>.268</td>\n",
       "      <td>98.5</td>\n",
       "      <td>28.0</td>\n",
       "      <td>101.5</td>\n",
       "      <td>17.6</td>\n",
       "      <td>/boxscores/199911020CHH.html</td>\n",
       "      <td>1</td>\n",
       "    </tr>\n",
       "    <tr>\n",
       "      <th>1</th>\n",
       "      <td>IND</td>\n",
       "      <td>.514</td>\n",
       "      <td>.225</td>\n",
       "      <td>86.2</td>\n",
       "      <td>15.2</td>\n",
       "      <td>103.3</td>\n",
       "      <td>28.6</td>\n",
       "      <td>CHH</td>\n",
       "      <td>.460</td>\n",
       "      <td>.207</td>\n",
       "      <td>94.9</td>\n",
       "      <td>19.2</td>\n",
       "      <td>103.3</td>\n",
       "      <td>11.5</td>\n",
       "      <td>/boxscores/199911040CHH.html</td>\n",
       "      <td>1</td>\n",
       "    </tr>\n",
       "    <tr>\n",
       "      <th>2</th>\n",
       "      <td>CHH</td>\n",
       "      <td>.500</td>\n",
       "      <td>.333</td>\n",
       "      <td>104.1</td>\n",
       "      <td>28.2</td>\n",
       "      <td>96.1</td>\n",
       "      <td>17.4</td>\n",
       "      <td>BOS</td>\n",
       "      <td>.471</td>\n",
       "      <td>.241</td>\n",
       "      <td>107.2</td>\n",
       "      <td>37.5</td>\n",
       "      <td>96.1</td>\n",
       "      <td>14.6</td>\n",
       "      <td>/boxscores/199911050BOS.html</td>\n",
       "      <td>1</td>\n",
       "    </tr>\n",
       "    <tr>\n",
       "      <th>3</th>\n",
       "      <td>CHH</td>\n",
       "      <td>.500</td>\n",
       "      <td>.456</td>\n",
       "      <td>105.6</td>\n",
       "      <td>31.4</td>\n",
       "      <td>93.7</td>\n",
       "      <td>21.2</td>\n",
       "      <td>TOR</td>\n",
       "      <td>.580</td>\n",
       "      <td>.080</td>\n",
       "      <td>116.3</td>\n",
       "      <td>28.9</td>\n",
       "      <td>93.7</td>\n",
       "      <td>13.2</td>\n",
       "      <td>/boxscores/199911070TOR.html</td>\n",
       "      <td>1</td>\n",
       "    </tr>\n",
       "    <tr>\n",
       "      <th>4</th>\n",
       "      <td>MIL</td>\n",
       "      <td>.558</td>\n",
       "      <td>.325</td>\n",
       "      <td>124.1</td>\n",
       "      <td>37.1</td>\n",
       "      <td>89.4</td>\n",
       "      <td>13.5</td>\n",
       "      <td>CHH</td>\n",
       "      <td>.557</td>\n",
       "      <td>.367</td>\n",
       "      <td>130.8</td>\n",
       "      <td>28.6</td>\n",
       "      <td>89.4</td>\n",
       "      <td>9.5</td>\n",
       "      <td>/boxscores/199911100CHH.html</td>\n",
       "      <td>1</td>\n",
       "    </tr>\n",
       "  </tbody>\n",
       "</table>\n",
       "</div>"
      ],
      "text/plain": [
       "  away away_efg_pct away_ft_rate away_off_rtg away_orb_pct away_pace  \\\n",
       "0  ORL         .425         .225         84.7         26.7     101.5   \n",
       "1  IND         .514         .225         86.2         15.2     103.3   \n",
       "2  CHH         .500         .333        104.1         28.2      96.1   \n",
       "3  CHH         .500         .456        105.6         31.4      93.7   \n",
       "4  MIL         .558         .325        124.1         37.1      89.4   \n",
       "\n",
       "  away_tov_pct home home_efg_pct home_ft_rate home_off_rtg home_orb_pct  \\\n",
       "0         19.3  CHH         .476         .268         98.5         28.0   \n",
       "1         28.6  CHH         .460         .207         94.9         19.2   \n",
       "2         17.4  BOS         .471         .241        107.2         37.5   \n",
       "3         21.2  TOR         .580         .080        116.3         28.9   \n",
       "4         13.5  CHH         .557         .367        130.8         28.6   \n",
       "\n",
       "  home_pace home_tov_pct                            id  chh_flag  \n",
       "0     101.5         17.6  /boxscores/199911020CHH.html         1  \n",
       "1     103.3         11.5  /boxscores/199911040CHH.html         1  \n",
       "2      96.1         14.6  /boxscores/199911050BOS.html         1  \n",
       "3      93.7         13.2  /boxscores/199911070TOR.html         1  \n",
       "4      89.4          9.5  /boxscores/199911100CHH.html         1  "
      ]
     },
     "execution_count": 6,
     "metadata": {},
     "output_type": "execute_result"
    }
   ],
   "source": [
    "four_factors_chh.head()"
   ]
  },
  {
   "cell_type": "code",
   "execution_count": 7,
   "metadata": {
    "collapsed": true
   },
   "outputs": [],
   "source": [
    "chh_games = four_factors_chh['id'].tolist()"
   ]
  },
  {
   "cell_type": "code",
   "execution_count": 8,
   "metadata": {
    "collapsed": false
   },
   "outputs": [],
   "source": [
    "box_score = pd.read_csv('box_score_chh.csv', nrows=1958)\n",
    "box_score_2 = pd.read_csv('box_score_chh.csv', skiprows=1959).drop('+/-', axis=1)\n",
    "all_box = pd.concat([box_score, box_score_2])"
   ]
  },
  {
   "cell_type": "code",
   "execution_count": 9,
   "metadata": {
    "collapsed": false
   },
   "outputs": [],
   "source": [
    "all_box = all_box[~(all_box['Starters']=='Starters')].reset_index(drop=True)"
   ]
  },
  {
   "cell_type": "code",
   "execution_count": 10,
   "metadata": {
    "collapsed": false
   },
   "outputs": [
    {
     "data": {
      "text/html": [
       "<div>\n",
       "<table border=\"1\" class=\"dataframe\">\n",
       "  <thead>\n",
       "    <tr style=\"text-align: right;\">\n",
       "      <th></th>\n",
       "      <th>Starters</th>\n",
       "      <th>MP</th>\n",
       "      <th>FG</th>\n",
       "      <th>FGA</th>\n",
       "      <th>FG%</th>\n",
       "      <th>3P</th>\n",
       "      <th>3PA</th>\n",
       "      <th>3P%</th>\n",
       "      <th>FT</th>\n",
       "      <th>FTA</th>\n",
       "      <th>...</th>\n",
       "      <th>DRB</th>\n",
       "      <th>TRB</th>\n",
       "      <th>AST</th>\n",
       "      <th>STL</th>\n",
       "      <th>BLK</th>\n",
       "      <th>TOV</th>\n",
       "      <th>PF</th>\n",
       "      <th>PTS</th>\n",
       "      <th>away</th>\n",
       "      <th>game_id</th>\n",
       "    </tr>\n",
       "  </thead>\n",
       "  <tbody>\n",
       "    <tr>\n",
       "      <th>0</th>\n",
       "      <td>Bo Outlaw</td>\n",
       "      <td>31:00</td>\n",
       "      <td>2</td>\n",
       "      <td>3</td>\n",
       "      <td>.667</td>\n",
       "      <td>0</td>\n",
       "      <td>0</td>\n",
       "      <td>NaN</td>\n",
       "      <td>0</td>\n",
       "      <td>0</td>\n",
       "      <td>...</td>\n",
       "      <td>4</td>\n",
       "      <td>6</td>\n",
       "      <td>0</td>\n",
       "      <td>2</td>\n",
       "      <td>1</td>\n",
       "      <td>1</td>\n",
       "      <td>3</td>\n",
       "      <td>4</td>\n",
       "      <td>away</td>\n",
       "      <td>/boxscores/199911020CHH.html</td>\n",
       "    </tr>\n",
       "    <tr>\n",
       "      <th>1</th>\n",
       "      <td>Darrell Armstrong</td>\n",
       "      <td>27:00</td>\n",
       "      <td>5</td>\n",
       "      <td>15</td>\n",
       "      <td>.333</td>\n",
       "      <td>0</td>\n",
       "      <td>4</td>\n",
       "      <td>.000</td>\n",
       "      <td>2</td>\n",
       "      <td>4</td>\n",
       "      <td>...</td>\n",
       "      <td>2</td>\n",
       "      <td>3</td>\n",
       "      <td>3</td>\n",
       "      <td>3</td>\n",
       "      <td>0</td>\n",
       "      <td>3</td>\n",
       "      <td>1</td>\n",
       "      <td>12</td>\n",
       "      <td>away</td>\n",
       "      <td>/boxscores/199911020CHH.html</td>\n",
       "    </tr>\n",
       "    <tr>\n",
       "      <th>2</th>\n",
       "      <td>Michael Doleac</td>\n",
       "      <td>20:00</td>\n",
       "      <td>1</td>\n",
       "      <td>6</td>\n",
       "      <td>.167</td>\n",
       "      <td>0</td>\n",
       "      <td>0</td>\n",
       "      <td>NaN</td>\n",
       "      <td>5</td>\n",
       "      <td>6</td>\n",
       "      <td>...</td>\n",
       "      <td>3</td>\n",
       "      <td>3</td>\n",
       "      <td>2</td>\n",
       "      <td>0</td>\n",
       "      <td>0</td>\n",
       "      <td>3</td>\n",
       "      <td>3</td>\n",
       "      <td>7</td>\n",
       "      <td>away</td>\n",
       "      <td>/boxscores/199911020CHH.html</td>\n",
       "    </tr>\n",
       "    <tr>\n",
       "      <th>3</th>\n",
       "      <td>Tariq Abdul-Wahad</td>\n",
       "      <td>20:00</td>\n",
       "      <td>2</td>\n",
       "      <td>7</td>\n",
       "      <td>.286</td>\n",
       "      <td>0</td>\n",
       "      <td>0</td>\n",
       "      <td>NaN</td>\n",
       "      <td>0</td>\n",
       "      <td>0</td>\n",
       "      <td>...</td>\n",
       "      <td>2</td>\n",
       "      <td>4</td>\n",
       "      <td>0</td>\n",
       "      <td>0</td>\n",
       "      <td>0</td>\n",
       "      <td>2</td>\n",
       "      <td>1</td>\n",
       "      <td>4</td>\n",
       "      <td>away</td>\n",
       "      <td>/boxscores/199911020CHH.html</td>\n",
       "    </tr>\n",
       "    <tr>\n",
       "      <th>4</th>\n",
       "      <td>Ben Wallace</td>\n",
       "      <td>14:00</td>\n",
       "      <td>1</td>\n",
       "      <td>1</td>\n",
       "      <td>1.000</td>\n",
       "      <td>0</td>\n",
       "      <td>0</td>\n",
       "      <td>NaN</td>\n",
       "      <td>0</td>\n",
       "      <td>0</td>\n",
       "      <td>...</td>\n",
       "      <td>2</td>\n",
       "      <td>3</td>\n",
       "      <td>0</td>\n",
       "      <td>0</td>\n",
       "      <td>1</td>\n",
       "      <td>0</td>\n",
       "      <td>2</td>\n",
       "      <td>2</td>\n",
       "      <td>away</td>\n",
       "      <td>/boxscores/199911020CHH.html</td>\n",
       "    </tr>\n",
       "  </tbody>\n",
       "</table>\n",
       "<p>5 rows × 22 columns</p>\n",
       "</div>"
      ],
      "text/plain": [
       "            Starters     MP FG FGA    FG% 3P 3PA   3P% FT FTA  \\\n",
       "0          Bo Outlaw  31:00  2   3   .667  0   0   NaN  0   0   \n",
       "1  Darrell Armstrong  27:00  5  15   .333  0   4  .000  2   4   \n",
       "2     Michael Doleac  20:00  1   6   .167  0   0   NaN  5   6   \n",
       "3  Tariq Abdul-Wahad  20:00  2   7   .286  0   0   NaN  0   0   \n",
       "4        Ben Wallace  14:00  1   1  1.000  0   0   NaN  0   0   \n",
       "\n",
       "               ...              DRB TRB AST STL BLK TOV PF PTS  away  \\\n",
       "0              ...                4   6   0   2   1   1  3   4  away   \n",
       "1              ...                2   3   3   3   0   3  1  12  away   \n",
       "2              ...                3   3   2   0   0   3  3   7  away   \n",
       "3              ...                2   4   0   0   0   2  1   4  away   \n",
       "4              ...                2   3   0   0   1   0  2   2  away   \n",
       "\n",
       "                        game_id  \n",
       "0  /boxscores/199911020CHH.html  \n",
       "1  /boxscores/199911020CHH.html  \n",
       "2  /boxscores/199911020CHH.html  \n",
       "3  /boxscores/199911020CHH.html  \n",
       "4  /boxscores/199911020CHH.html  \n",
       "\n",
       "[5 rows x 22 columns]"
      ]
     },
     "execution_count": 10,
     "metadata": {},
     "output_type": "execute_result"
    }
   ],
   "source": [
    "all_box.head()"
   ]
  },
  {
   "cell_type": "code",
   "execution_count": 11,
   "metadata": {
    "collapsed": false
   },
   "outputs": [],
   "source": [
    "all_box['dc_flag'] = all_box.apply(lambda row: 1 if row['Starters']=='Derrick Coleman' else 1 if row['Starters']=='Derrick Coleman' else 0, axis=1)"
   ]
  },
  {
   "cell_type": "code",
   "execution_count": 12,
   "metadata": {
    "collapsed": false
   },
   "outputs": [],
   "source": [
    "dc_flag = all_box.groupby('game_id')['dc_flag'].max().reset_index()"
   ]
  },
  {
   "cell_type": "code",
   "execution_count": 13,
   "metadata": {
    "collapsed": false
   },
   "outputs": [
    {
     "data": {
      "text/html": [
       "<div>\n",
       "<table border=\"1\" class=\"dataframe\">\n",
       "  <thead>\n",
       "    <tr style=\"text-align: right;\">\n",
       "      <th></th>\n",
       "      <th>game_id</th>\n",
       "      <th>dc_flag</th>\n",
       "    </tr>\n",
       "  </thead>\n",
       "  <tbody>\n",
       "    <tr>\n",
       "      <th>172</th>\n",
       "      <td>/boxscores/200105100CHH.html</td>\n",
       "      <td>0</td>\n",
       "    </tr>\n",
       "    <tr>\n",
       "      <th>173</th>\n",
       "      <td>/boxscores/200105130CHH.html</td>\n",
       "      <td>0</td>\n",
       "    </tr>\n",
       "    <tr>\n",
       "      <th>174</th>\n",
       "      <td>/boxscores/200105150MIL.html</td>\n",
       "      <td>0</td>\n",
       "    </tr>\n",
       "    <tr>\n",
       "      <th>175</th>\n",
       "      <td>/boxscores/200105170CHH.html</td>\n",
       "      <td>0</td>\n",
       "    </tr>\n",
       "    <tr>\n",
       "      <th>176</th>\n",
       "      <td>/boxscores/200105200MIL.html</td>\n",
       "      <td>0</td>\n",
       "    </tr>\n",
       "  </tbody>\n",
       "</table>\n",
       "</div>"
      ],
      "text/plain": [
       "                          game_id  dc_flag\n",
       "172  /boxscores/200105100CHH.html        0\n",
       "173  /boxscores/200105130CHH.html        0\n",
       "174  /boxscores/200105150MIL.html        0\n",
       "175  /boxscores/200105170CHH.html        0\n",
       "176  /boxscores/200105200MIL.html        0"
      ]
     },
     "execution_count": 13,
     "metadata": {},
     "output_type": "execute_result"
    }
   ],
   "source": [
    "dc_flag.tail()"
   ]
  },
  {
   "cell_type": "code",
   "execution_count": 14,
   "metadata": {
    "collapsed": true
   },
   "outputs": [],
   "source": [
    "all_box['PTS'] = all_box['PTS'].astype(int)"
   ]
  },
  {
   "cell_type": "code",
   "execution_count": 15,
   "metadata": {
    "collapsed": false
   },
   "outputs": [],
   "source": [
    "all_box['home_id'] = all_box['game_id'].apply(lambda x: x[20:23])"
   ]
  },
  {
   "cell_type": "code",
   "execution_count": 16,
   "metadata": {
    "collapsed": false
   },
   "outputs": [],
   "source": [
    "win_pivot = pd.pivot_table(all_box[all_box['Starters']=='Team Totals'], index=['game_id','home_id'], columns='away', values='PTS').reset_index()"
   ]
  },
  {
   "cell_type": "code",
   "execution_count": 17,
   "metadata": {
    "collapsed": false
   },
   "outputs": [
    {
     "data": {
      "text/html": [
       "<div>\n",
       "<table border=\"1\" class=\"dataframe\">\n",
       "  <thead>\n",
       "    <tr style=\"text-align: right;\">\n",
       "      <th>away</th>\n",
       "      <th>game_id</th>\n",
       "      <th>home_id</th>\n",
       "      <th>away</th>\n",
       "      <th>home</th>\n",
       "    </tr>\n",
       "  </thead>\n",
       "  <tbody>\n",
       "    <tr>\n",
       "      <th>0</th>\n",
       "      <td>/boxscores/199911020CHH.html</td>\n",
       "      <td>CHH</td>\n",
       "      <td>86</td>\n",
       "      <td>100</td>\n",
       "    </tr>\n",
       "    <tr>\n",
       "      <th>1</th>\n",
       "      <td>/boxscores/199911040CHH.html</td>\n",
       "      <td>CHH</td>\n",
       "      <td>89</td>\n",
       "      <td>98</td>\n",
       "    </tr>\n",
       "    <tr>\n",
       "      <th>2</th>\n",
       "      <td>/boxscores/199911050BOS.html</td>\n",
       "      <td>BOS</td>\n",
       "      <td>100</td>\n",
       "      <td>103</td>\n",
       "    </tr>\n",
       "    <tr>\n",
       "      <th>3</th>\n",
       "      <td>/boxscores/199911070TOR.html</td>\n",
       "      <td>TOR</td>\n",
       "      <td>99</td>\n",
       "      <td>109</td>\n",
       "    </tr>\n",
       "    <tr>\n",
       "      <th>4</th>\n",
       "      <td>/boxscores/199911100CHH.html</td>\n",
       "      <td>CHH</td>\n",
       "      <td>111</td>\n",
       "      <td>117</td>\n",
       "    </tr>\n",
       "  </tbody>\n",
       "</table>\n",
       "</div>"
      ],
      "text/plain": [
       "away                       game_id home_id  away  home\n",
       "0     /boxscores/199911020CHH.html     CHH    86   100\n",
       "1     /boxscores/199911040CHH.html     CHH    89    98\n",
       "2     /boxscores/199911050BOS.html     BOS   100   103\n",
       "3     /boxscores/199911070TOR.html     TOR    99   109\n",
       "4     /boxscores/199911100CHH.html     CHH   111   117"
      ]
     },
     "execution_count": 17,
     "metadata": {},
     "output_type": "execute_result"
    }
   ],
   "source": [
    "win_pivot.head()"
   ]
  },
  {
   "cell_type": "code",
   "execution_count": 18,
   "metadata": {
    "collapsed": false
   },
   "outputs": [],
   "source": [
    "win_pivot['win_flag'] = win_pivot.apply(lambda row: 1 if ((row['home']>row['away'])&(row['home_id']=='CHH'))|\n",
    "                ((row['home']<row['away'])&(row['home_id']<>'CHH'))else 0, axis=1)\n",
    "win_pivot['win_pd'] = win_pivot.apply(lambda row: row['home']-row['away'] if row['home_id']=='CHH'\n",
    "                                        else row['away']-row['home'], axis=1)"
   ]
  },
  {
   "cell_type": "code",
   "execution_count": 19,
   "metadata": {
    "collapsed": false
   },
   "outputs": [],
   "source": [
    "chh_four_factors = four_factors[four_factors['chh_flag']==1].reset_index(drop=True)"
   ]
  },
  {
   "cell_type": "code",
   "execution_count": 20,
   "metadata": {
    "collapsed": false
   },
   "outputs": [],
   "source": [
    "chh_four_factors['win_flag'] = pd.merge(chh_four_factors, win_pivot, left_on='id', right_on='game_id', how='left')['win_flag']\n",
    "chh_four_factors['win_pd'] = pd.merge(chh_four_factors, win_pivot, left_on='id', right_on='game_id', how='left')['win_pd']\n",
    "chh_four_factors['dc_flag'] = pd.merge(chh_four_factors, dc_flag, left_on='id',  right_on='game_id', how='left')['dc_flag']"
   ]
  },
  {
   "cell_type": "code",
   "execution_count": 21,
   "metadata": {
    "collapsed": false
   },
   "outputs": [
    {
     "data": {
      "text/html": [
       "<div>\n",
       "<table border=\"1\" class=\"dataframe\">\n",
       "  <thead>\n",
       "    <tr style=\"text-align: right;\">\n",
       "      <th></th>\n",
       "      <th>away</th>\n",
       "      <th>away_efg_pct</th>\n",
       "      <th>away_ft_rate</th>\n",
       "      <th>away_off_rtg</th>\n",
       "      <th>away_orb_pct</th>\n",
       "      <th>away_pace</th>\n",
       "      <th>away_tov_pct</th>\n",
       "      <th>home</th>\n",
       "      <th>home_efg_pct</th>\n",
       "      <th>home_ft_rate</th>\n",
       "      <th>home_off_rtg</th>\n",
       "      <th>home_orb_pct</th>\n",
       "      <th>home_pace</th>\n",
       "      <th>home_tov_pct</th>\n",
       "      <th>id</th>\n",
       "      <th>chh_flag</th>\n",
       "      <th>win_flag</th>\n",
       "      <th>win_pd</th>\n",
       "      <th>dc_flag</th>\n",
       "    </tr>\n",
       "  </thead>\n",
       "  <tbody>\n",
       "    <tr>\n",
       "      <th>172</th>\n",
       "      <td>MIL</td>\n",
       "      <td>.466</td>\n",
       "      <td>.101</td>\n",
       "      <td>101.6</td>\n",
       "      <td>16.7</td>\n",
       "      <td>90.6</td>\n",
       "      <td>6.9</td>\n",
       "      <td>CHH</td>\n",
       "      <td>.506</td>\n",
       "      <td>.247</td>\n",
       "      <td>112.6</td>\n",
       "      <td>38.6</td>\n",
       "      <td>90.6</td>\n",
       "      <td>11.1</td>\n",
       "      <td>/boxscores/200105100CHH.html</td>\n",
       "      <td>1</td>\n",
       "      <td>1</td>\n",
       "      <td>10</td>\n",
       "      <td>0</td>\n",
       "    </tr>\n",
       "    <tr>\n",
       "      <th>173</th>\n",
       "      <td>MIL</td>\n",
       "      <td>.467</td>\n",
       "      <td>.092</td>\n",
       "      <td>87.1</td>\n",
       "      <td>36.4</td>\n",
       "      <td>89.6</td>\n",
       "      <td>21.7</td>\n",
       "      <td>CHH</td>\n",
       "      <td>.372</td>\n",
       "      <td>.244</td>\n",
       "      <td>94.9</td>\n",
       "      <td>30.0</td>\n",
       "      <td>89.6</td>\n",
       "      <td>10.9</td>\n",
       "      <td>/boxscores/200105130CHH.html</td>\n",
       "      <td>1</td>\n",
       "      <td>1</td>\n",
       "      <td>7</td>\n",
       "      <td>0</td>\n",
       "    </tr>\n",
       "    <tr>\n",
       "      <th>174</th>\n",
       "      <td>CHH</td>\n",
       "      <td>.487</td>\n",
       "      <td>.215</td>\n",
       "      <td>112.0</td>\n",
       "      <td>24.4</td>\n",
       "      <td>83.9</td>\n",
       "      <td>8.2</td>\n",
       "      <td>MIL</td>\n",
       "      <td>.390</td>\n",
       "      <td>.268</td>\n",
       "      <td>102.5</td>\n",
       "      <td>36.0</td>\n",
       "      <td>83.9</td>\n",
       "      <td>9.6</td>\n",
       "      <td>/boxscores/200105150MIL.html</td>\n",
       "      <td>1</td>\n",
       "      <td>1</td>\n",
       "      <td>8</td>\n",
       "      <td>0</td>\n",
       "    </tr>\n",
       "    <tr>\n",
       "      <th>175</th>\n",
       "      <td>MIL</td>\n",
       "      <td>.526</td>\n",
       "      <td>.316</td>\n",
       "      <td>114.8</td>\n",
       "      <td>24.2</td>\n",
       "      <td>90.6</td>\n",
       "      <td>13.8</td>\n",
       "      <td>CHH</td>\n",
       "      <td>.431</td>\n",
       "      <td>.486</td>\n",
       "      <td>107.0</td>\n",
       "      <td>24.4</td>\n",
       "      <td>90.6</td>\n",
       "      <td>12.5</td>\n",
       "      <td>/boxscores/200105170CHH.html</td>\n",
       "      <td>1</td>\n",
       "      <td>0</td>\n",
       "      <td>-7</td>\n",
       "      <td>0</td>\n",
       "    </tr>\n",
       "    <tr>\n",
       "      <th>176</th>\n",
       "      <td>CHH</td>\n",
       "      <td>.476</td>\n",
       "      <td>.207</td>\n",
       "      <td>111.2</td>\n",
       "      <td>29.2</td>\n",
       "      <td>85.5</td>\n",
       "      <td>6.9</td>\n",
       "      <td>MIL</td>\n",
       "      <td>.522</td>\n",
       "      <td>.485</td>\n",
       "      <td>121.7</td>\n",
       "      <td>25.8</td>\n",
       "      <td>85.5</td>\n",
       "      <td>13.5</td>\n",
       "      <td>/boxscores/200105200MIL.html</td>\n",
       "      <td>1</td>\n",
       "      <td>0</td>\n",
       "      <td>-9</td>\n",
       "      <td>0</td>\n",
       "    </tr>\n",
       "  </tbody>\n",
       "</table>\n",
       "</div>"
      ],
      "text/plain": [
       "    away away_efg_pct away_ft_rate away_off_rtg away_orb_pct away_pace  \\\n",
       "172  MIL         .466         .101        101.6         16.7      90.6   \n",
       "173  MIL         .467         .092         87.1         36.4      89.6   \n",
       "174  CHH         .487         .215        112.0         24.4      83.9   \n",
       "175  MIL         .526         .316        114.8         24.2      90.6   \n",
       "176  CHH         .476         .207        111.2         29.2      85.5   \n",
       "\n",
       "    away_tov_pct home home_efg_pct home_ft_rate home_off_rtg home_orb_pct  \\\n",
       "172          6.9  CHH         .506         .247        112.6         38.6   \n",
       "173         21.7  CHH         .372         .244         94.9         30.0   \n",
       "174          8.2  MIL         .390         .268        102.5         36.0   \n",
       "175         13.8  CHH         .431         .486        107.0         24.4   \n",
       "176          6.9  MIL         .522         .485        121.7         25.8   \n",
       "\n",
       "    home_pace home_tov_pct                            id  chh_flag  win_flag  \\\n",
       "172      90.6         11.1  /boxscores/200105100CHH.html         1         1   \n",
       "173      89.6         10.9  /boxscores/200105130CHH.html         1         1   \n",
       "174      83.9          9.6  /boxscores/200105150MIL.html         1         1   \n",
       "175      90.6         12.5  /boxscores/200105170CHH.html         1         0   \n",
       "176      85.5         13.5  /boxscores/200105200MIL.html         1         0   \n",
       "\n",
       "     win_pd  dc_flag  \n",
       "172      10        0  \n",
       "173       7        0  \n",
       "174       8        0  \n",
       "175      -7        0  \n",
       "176      -9        0  "
      ]
     },
     "execution_count": 21,
     "metadata": {},
     "output_type": "execute_result"
    }
   ],
   "source": [
    "chh_four_factors.tail()"
   ]
  },
  {
   "cell_type": "code",
   "execution_count": 22,
   "metadata": {
    "collapsed": false
   },
   "outputs": [
    {
     "data": {
      "text/plain": [
       "dc_flag\n",
       "0    0.704918\n",
       "1    0.508621\n",
       "Name: win_flag, dtype: float64"
      ]
     },
     "execution_count": 22,
     "metadata": {},
     "output_type": "execute_result"
    }
   ],
   "source": [
    "chh_four_factors.groupby('dc_flag')['win_flag'].mean()"
   ]
  },
  {
   "cell_type": "code",
   "execution_count": 23,
   "metadata": {
    "collapsed": false
   },
   "outputs": [
    {
     "data": {
      "text/plain": [
       "dc_flag\n",
       "0    4.721311\n",
       "1    1.456897\n",
       "Name: win_pd, dtype: float64"
      ]
     },
     "execution_count": 23,
     "metadata": {},
     "output_type": "execute_result"
    }
   ],
   "source": [
    "chh_four_factors.groupby('dc_flag')['win_pd'].mean()"
   ]
  },
  {
   "cell_type": "code",
   "execution_count": 24,
   "metadata": {
    "collapsed": false
   },
   "outputs": [
    {
     "data": {
      "text/plain": [
       "<matplotlib.axes._subplots.AxesSubplot at 0xa6c4fd0>"
      ]
     },
     "execution_count": 24,
     "metadata": {},
     "output_type": "execute_result"
    },
    {
     "data": {
      "image/png": "[encoded data removed]",
      "text/plain": [
       "<matplotlib.figure.Figure at 0xa6c4eb8>"
      ]
     },
     "metadata": {},
     "output_type": "display_data"
    }
   ],
   "source": [
    "chh_four_factors.boxplot(column='win_pd', by='dc_flag')"
   ]
  },
  {
   "cell_type": "code",
   "execution_count": 25,
   "metadata": {
    "collapsed": false
   },
   "outputs": [
    {
     "data": {
      "text/plain": [
       "<matplotlib.axes._subplots.AxesSubplot at 0xaad9f98>"
      ]
     },
     "execution_count": 25,
     "metadata": {},
     "output_type": "execute_result"
    },
    {
     "data": {
      "image/png": "[encoded data removed]",
      "text/plain": [
       "<matplotlib.figure.Figure at 0xabb7160>"
      ]
     },
     "metadata": {},
     "output_type": "display_data"
    }
   ],
   "source": [
    "## Add legend\n",
    "ax = chh_four_factors['win_pd'].hist()\n",
    "chh_four_factors[chh_four_factors['dc_flag']==1]['win_pd'].hist(ax=ax)"
   ]
  },
  {
   "cell_type": "markdown",
   "metadata": {},
   "source": [
    "## 1 Sample T-Test"
   ]
  },
  {
   "cell_type": "code",
   "execution_count": 26,
   "metadata": {
    "collapsed": false
   },
   "outputs": [
    {
     "data": {
      "text/plain": [
       "Ttest_1sampResult(statistic=2.0476672523802768, pvalue=0.042078522859505384)"
      ]
     },
     "execution_count": 26,
     "metadata": {},
     "output_type": "execute_result"
    }
   ],
   "source": [
    "stats.ttest_1samp(chh_four_factors['win_flag'], .5)"
   ]
  },
  {
   "cell_type": "markdown",
   "metadata": {},
   "source": [
    "## 2 Sample T-Test Unequal Variance "
   ]
  },
  {
   "cell_type": "code",
   "execution_count": 27,
   "metadata": {
    "collapsed": false
   },
   "outputs": [
    {
     "data": {
      "text/plain": [
       "Ttest_indResult(statistic=2.6137973430365662, pvalue=0.0099959320731717663)"
      ]
     },
     "execution_count": 27,
     "metadata": {},
     "output_type": "execute_result"
    }
   ],
   "source": [
    "stats.ttest_ind(chh_four_factors[chh_four_factors['dc_flag']==0]['win_flag'], \n",
    "                chh_four_factors[chh_four_factors['dc_flag']==1]['win_flag'], equal_var=False)"
   ]
  },
  {
   "cell_type": "markdown",
   "metadata": {},
   "source": [
    "## Offensive & Defensive Ratings"
   ]
  },
  {
   "cell_type": "code",
   "execution_count": 28,
   "metadata": {
    "collapsed": false
   },
   "outputs": [
    {
     "data": {
      "text/html": [
       "<div>\n",
       "<table border=\"1\" class=\"dataframe\">\n",
       "  <thead>\n",
       "    <tr style=\"text-align: right;\">\n",
       "      <th></th>\n",
       "      <th>away</th>\n",
       "      <th>away_efg_pct</th>\n",
       "      <th>away_ft_rate</th>\n",
       "      <th>away_off_rtg</th>\n",
       "      <th>away_orb_pct</th>\n",
       "      <th>away_pace</th>\n",
       "      <th>away_tov_pct</th>\n",
       "      <th>home</th>\n",
       "      <th>home_efg_pct</th>\n",
       "      <th>home_ft_rate</th>\n",
       "      <th>home_off_rtg</th>\n",
       "      <th>home_orb_pct</th>\n",
       "      <th>home_pace</th>\n",
       "      <th>home_tov_pct</th>\n",
       "      <th>id</th>\n",
       "      <th>chh_flag</th>\n",
       "      <th>win_flag</th>\n",
       "      <th>win_pd</th>\n",
       "      <th>dc_flag</th>\n",
       "    </tr>\n",
       "  </thead>\n",
       "  <tbody>\n",
       "    <tr>\n",
       "      <th>0</th>\n",
       "      <td>ORL</td>\n",
       "      <td>.425</td>\n",
       "      <td>.225</td>\n",
       "      <td>84.7</td>\n",
       "      <td>26.7</td>\n",
       "      <td>101.5</td>\n",
       "      <td>19.3</td>\n",
       "      <td>CHH</td>\n",
       "      <td>.476</td>\n",
       "      <td>.268</td>\n",
       "      <td>98.5</td>\n",
       "      <td>28.0</td>\n",
       "      <td>101.5</td>\n",
       "      <td>17.6</td>\n",
       "      <td>/boxscores/199911020CHH.html</td>\n",
       "      <td>1</td>\n",
       "      <td>1</td>\n",
       "      <td>14</td>\n",
       "      <td>1</td>\n",
       "    </tr>\n",
       "    <tr>\n",
       "      <th>1</th>\n",
       "      <td>IND</td>\n",
       "      <td>.514</td>\n",
       "      <td>.225</td>\n",
       "      <td>86.2</td>\n",
       "      <td>15.2</td>\n",
       "      <td>103.3</td>\n",
       "      <td>28.6</td>\n",
       "      <td>CHH</td>\n",
       "      <td>.460</td>\n",
       "      <td>.207</td>\n",
       "      <td>94.9</td>\n",
       "      <td>19.2</td>\n",
       "      <td>103.3</td>\n",
       "      <td>11.5</td>\n",
       "      <td>/boxscores/199911040CHH.html</td>\n",
       "      <td>1</td>\n",
       "      <td>1</td>\n",
       "      <td>9</td>\n",
       "      <td>1</td>\n",
       "    </tr>\n",
       "    <tr>\n",
       "      <th>2</th>\n",
       "      <td>CHH</td>\n",
       "      <td>.500</td>\n",
       "      <td>.333</td>\n",
       "      <td>104.1</td>\n",
       "      <td>28.2</td>\n",
       "      <td>96.1</td>\n",
       "      <td>17.4</td>\n",
       "      <td>BOS</td>\n",
       "      <td>.471</td>\n",
       "      <td>.241</td>\n",
       "      <td>107.2</td>\n",
       "      <td>37.5</td>\n",
       "      <td>96.1</td>\n",
       "      <td>14.6</td>\n",
       "      <td>/boxscores/199911050BOS.html</td>\n",
       "      <td>1</td>\n",
       "      <td>0</td>\n",
       "      <td>-3</td>\n",
       "      <td>1</td>\n",
       "    </tr>\n",
       "    <tr>\n",
       "      <th>3</th>\n",
       "      <td>CHH</td>\n",
       "      <td>.500</td>\n",
       "      <td>.456</td>\n",
       "      <td>105.6</td>\n",
       "      <td>31.4</td>\n",
       "      <td>93.7</td>\n",
       "      <td>21.2</td>\n",
       "      <td>TOR</td>\n",
       "      <td>.580</td>\n",
       "      <td>.080</td>\n",
       "      <td>116.3</td>\n",
       "      <td>28.9</td>\n",
       "      <td>93.7</td>\n",
       "      <td>13.2</td>\n",
       "      <td>/boxscores/199911070TOR.html</td>\n",
       "      <td>1</td>\n",
       "      <td>0</td>\n",
       "      <td>-10</td>\n",
       "      <td>1</td>\n",
       "    </tr>\n",
       "    <tr>\n",
       "      <th>4</th>\n",
       "      <td>MIL</td>\n",
       "      <td>.558</td>\n",
       "      <td>.325</td>\n",
       "      <td>124.1</td>\n",
       "      <td>37.1</td>\n",
       "      <td>89.4</td>\n",
       "      <td>13.5</td>\n",
       "      <td>CHH</td>\n",
       "      <td>.557</td>\n",
       "      <td>.367</td>\n",
       "      <td>130.8</td>\n",
       "      <td>28.6</td>\n",
       "      <td>89.4</td>\n",
       "      <td>9.5</td>\n",
       "      <td>/boxscores/199911100CHH.html</td>\n",
       "      <td>1</td>\n",
       "      <td>1</td>\n",
       "      <td>6</td>\n",
       "      <td>1</td>\n",
       "    </tr>\n",
       "  </tbody>\n",
       "</table>\n",
       "</div>"
      ],
      "text/plain": [
       "  away away_efg_pct away_ft_rate away_off_rtg away_orb_pct away_pace  \\\n",
       "0  ORL         .425         .225         84.7         26.7     101.5   \n",
       "1  IND         .514         .225         86.2         15.2     103.3   \n",
       "2  CHH         .500         .333        104.1         28.2      96.1   \n",
       "3  CHH         .500         .456        105.6         31.4      93.7   \n",
       "4  MIL         .558         .325        124.1         37.1      89.4   \n",
       "\n",
       "  away_tov_pct home home_efg_pct home_ft_rate home_off_rtg home_orb_pct  \\\n",
       "0         19.3  CHH         .476         .268         98.5         28.0   \n",
       "1         28.6  CHH         .460         .207         94.9         19.2   \n",
       "2         17.4  BOS         .471         .241        107.2         37.5   \n",
       "3         21.2  TOR         .580         .080        116.3         28.9   \n",
       "4         13.5  CHH         .557         .367        130.8         28.6   \n",
       "\n",
       "  home_pace home_tov_pct                            id  chh_flag  win_flag  \\\n",
       "0     101.5         17.6  /boxscores/199911020CHH.html         1         1   \n",
       "1     103.3         11.5  /boxscores/199911040CHH.html         1         1   \n",
       "2      96.1         14.6  /boxscores/199911050BOS.html         1         0   \n",
       "3      93.7         13.2  /boxscores/199911070TOR.html         1         0   \n",
       "4      89.4          9.5  /boxscores/199911100CHH.html         1         1   \n",
       "\n",
       "   win_pd  dc_flag  \n",
       "0      14        1  \n",
       "1       9        1  \n",
       "2      -3        1  \n",
       "3     -10        1  \n",
       "4       6        1  "
      ]
     },
     "execution_count": 28,
     "metadata": {},
     "output_type": "execute_result"
    }
   ],
   "source": [
    "chh_four_factors.head()"
   ]
  },
  {
   "cell_type": "code",
   "execution_count": 29,
   "metadata": {
    "collapsed": false
   },
   "outputs": [],
   "source": [
    "chh_four_factors['chh_off_rtg'] = chh_four_factors.apply(lambda row: row['away_off_rtg'] if row['away']=='CHH' else row['home_off_rtg'], axis=1).astype(float)\n",
    "chh_four_factors['chh_def_rtg'] = chh_four_factors.apply(lambda row: row['home_off_rtg'] if row['away']=='CHH' else row['away_off_rtg'], axis=1).astype(float)"
   ]
  },
  {
   "cell_type": "code",
   "execution_count": 30,
   "metadata": {
    "collapsed": false
   },
   "outputs": [
    {
     "name": "stdout",
     "output_type": "stream",
     "text": [
      "dc_flag\n",
      "0    104.475410\n",
      "1    104.127586\n",
      "Name: chh_off_rtg, dtype: float64\n",
      "Ttest_indResult(statistic=0.19681633637260007, pvalue=0.84429592070088544)\n"
     ]
    }
   ],
   "source": [
    "print chh_four_factors.groupby('dc_flag')['chh_off_rtg'].mean()\n",
    "print stats.ttest_ind(chh_four_factors[chh_four_factors['dc_flag']==0]['chh_off_rtg'], \n",
    "                chh_four_factors[chh_four_factors['dc_flag']==1]['chh_off_rtg'], equal_var=False)"
   ]
  },
  {
   "cell_type": "code",
   "execution_count": 31,
   "metadata": {
    "collapsed": false
   },
   "outputs": [
    {
     "name": "stdout",
     "output_type": "stream",
     "text": [
      "dc_flag\n",
      "0     99.309836\n",
      "1    102.652586\n",
      "Name: chh_def_rtg, dtype: float64\n",
      "Ttest_indResult(statistic=-1.7887458361130661, pvalue=0.075912662631771377)\n"
     ]
    }
   ],
   "source": [
    "print chh_four_factors.groupby('dc_flag')['chh_def_rtg'].mean()\n",
    "print stats.ttest_ind(chh_four_factors[chh_four_factors['dc_flag']==0]['chh_def_rtg'], \n",
    "                chh_four_factors[chh_four_factors['dc_flag']==1]['chh_def_rtg'], equal_var=False)"
   ]
  },
  {
   "cell_type": "markdown",
   "metadata": {},
   "source": [
    "## Four Factors"
   ]
  },
  {
   "cell_type": "code",
   "execution_count": 32,
   "metadata": {
    "collapsed": true
   },
   "outputs": [],
   "source": [
    "chh_four_factors['chh_def_efg'] = chh_four_factors.apply(lambda row: row['home_efg_pct'] if row['away']=='CHH' else row['away_efg_pct'], axis=1).astype(float)\n",
    "chh_four_factors['chh_def_orb'] = chh_four_factors.apply(lambda row: row['home_orb_pct'] if row['away']=='CHH' else row['away_orb_pct'], axis=1).astype(float)\n",
    "chh_four_factors['chh_def_tov'] = chh_four_factors.apply(lambda row: row['home_tov_pct'] if row['away']=='CHH' else row['away_tov_pct'], axis=1).astype(float)\n",
    "chh_four_factors['chh_def_ftrate'] = chh_four_factors.apply(lambda row: row['home_ft_rate'] if row['away']=='CHH' else row['away_ft_rate'], axis=1).astype(float)"
   ]
  },
  {
   "cell_type": "code",
   "execution_count": 33,
   "metadata": {
    "collapsed": false
   },
   "outputs": [
    {
     "name": "stdout",
     "output_type": "stream",
     "text": [
      "dc_flag\n",
      "0    0.454361\n",
      "1    0.475612\n",
      "Name: chh_def_efg, dtype: float64\n",
      "Ttest_indResult(statistic=-2.1835990346700354, pvalue=0.030696316525347083)\n"
     ]
    }
   ],
   "source": [
    "print chh_four_factors.groupby('dc_flag')['chh_def_efg'].mean()\n",
    "print stats.ttest_ind(chh_four_factors[chh_four_factors['dc_flag']==0]['chh_def_efg'], \n",
    "                chh_four_factors[chh_four_factors['dc_flag']==1]['chh_def_efg'], equal_var=False)"
   ]
  },
  {
   "cell_type": "code",
   "execution_count": 34,
   "metadata": {
    "collapsed": false
   },
   "outputs": [
    {
     "name": "stdout",
     "output_type": "stream",
     "text": [
      "dc_flag\n",
      "0    25.481967\n",
      "1    26.382759\n",
      "Name: chh_def_orb, dtype: float64\n",
      "Ttest_indResult(statistic=-0.81007374940485455, pvalue=0.41938034882261443)\n"
     ]
    }
   ],
   "source": [
    "print chh_four_factors.groupby('dc_flag')['chh_def_orb'].mean()\n",
    "print stats.ttest_ind(chh_four_factors[chh_four_factors['dc_flag']==0]['chh_def_orb'], \n",
    "                chh_four_factors[chh_four_factors['dc_flag']==1]['chh_def_orb'], equal_var=False)"
   ]
  },
  {
   "cell_type": "code",
   "execution_count": 35,
   "metadata": {
    "collapsed": false
   },
   "outputs": [
    {
     "name": "stdout",
     "output_type": "stream",
     "text": [
      "dc_flag\n",
      "0    13.796721\n",
      "1    13.709483\n",
      "Name: chh_def_tov, dtype: float64\n",
      "Ttest_indResult(statistic=0.15398948213527919, pvalue=0.87784682309756934)\n"
     ]
    }
   ],
   "source": [
    "print chh_four_factors.groupby('dc_flag')['chh_def_tov'].mean()\n",
    "print stats.ttest_ind(chh_four_factors[chh_four_factors['dc_flag']==0]['chh_def_tov'], \n",
    "                      chh_four_factors[chh_four_factors['dc_flag']==1]['chh_def_tov'], equal_var=False)"
   ]
  },
  {
   "cell_type": "code",
   "execution_count": 36,
   "metadata": {
    "collapsed": false
   },
   "outputs": [
    {
     "name": "stdout",
     "output_type": "stream",
     "text": [
      "dc_flag\n",
      "0    0.223361\n",
      "1    0.209241\n",
      "Name: chh_def_ftrate, dtype: float64\n",
      "Ttest_indResult(statistic=1.0572161821820181, pvalue=0.29291482641012956)\n"
     ]
    }
   ],
   "source": [
    "print chh_four_factors.groupby('dc_flag')['chh_def_ftrate'].mean()\n",
    "print stats.ttest_ind(chh_four_factors[chh_four_factors['dc_flag']==0]['chh_def_ftrate'], \n",
    "                chh_four_factors[chh_four_factors['dc_flag']==1]['chh_def_ftrate'], equal_var=False)"
   ]
  },
  {
   "cell_type": "code",
   "execution_count": null,
   "metadata": {
    "collapsed": true
   },
   "outputs": [],
   "source": []
  }
 ],
 "metadata": {
  "kernelspec": {
   "display_name": "Python 2",
   "language": "python",
   "name": "python2"
  },
  "language_info": {
   "codemirror_mode": {
    "name": "ipython",
    "version": 2
   },
   "file_extension": ".py",
   "mimetype": "text/x-python",
   "name": "python",
   "nbconvert_exporter": "python",
   "pygments_lexer": "ipython2",
   "version": "2.7.12"
  }
 },
 "nbformat": 4,
 "nbformat_minor": 0
}
